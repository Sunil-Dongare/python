{
 "cells": [
  {
   "cell_type": "code",
   "execution_count": null,
   "id": "136dd56e",
   "metadata": {},
   "outputs": [],
   "source": [
    "#Star pattern using while lop\n",
    "line = int(input(\"enter pattern:\"))\n",
    "i = 1\n",
    "while i<=line:\n",
    "    j = 1\n",
    "    while j<=i:\n",
    "        print('*',end='')\n",
    "        j+=1\n",
    "    print('')\n",
    "    i = i+1"
   ]
  },
  {
   "cell_type": "markdown",
   "id": "abad5bb2",
   "metadata": {},
   "source": [
    "#number left pyramid program using while loop\n",
    "'''\n",
    "1\n",
    "12\n",
    "123\n",
    "1234\n",
    "12345  '''"
   ]
  },
  {
   "cell_type": "code",
   "execution_count": null,
   "id": "e60f0684",
   "metadata": {},
   "outputs": [],
   "source": [
    "num = int(input(\"enter the num of line::\"))\n",
    "i = 1\n",
    "while i<=num:\n",
    "    j = 1\n",
    "    while j<=i:\n",
    "        print(j,end = '')\n",
    "        j = j+1\n",
    "    print()\n",
    "    i = i+1"
   ]
  },
  {
   "cell_type": "code",
   "execution_count": 32,
   "id": "21428124",
   "metadata": {},
   "outputs": [
    {
     "name": "stdout",
     "output_type": "stream",
     "text": [
      "enter the line you want::5\n",
      "******\n",
      "*****\n",
      "****\n",
      "***\n",
      "**\n",
      "*\n"
     ]
    }
   ],
   "source": [
    "#left side star pattern program\n",
    "'''\n",
    "*****\n",
    "***\n",
    "**\n",
    "*'''\n",
    "line = int(input(\"enter the line you want::\"))\n",
    "i = 0\n",
    "while i<=line:\n",
    "    j=line\n",
    "    while j>=i:\n",
    "        print('*',end = '')\n",
    "        j = j-1\n",
    "    print()\n",
    "    i = i+1"
   ]
  },
  {
   "cell_type": "code",
   "execution_count": 33,
   "id": "4cd2ce06",
   "metadata": {},
   "outputs": [],
   "source": [
    "#centre trangle pyramid\n",
    "#      *\n",
    "#     * *\n",
    "#    * * *\n",
    "#   * * * *\n",
    "#  * * * * *"
   ]
  },
  {
   "cell_type": "code",
   "execution_count": 42,
   "id": "75bdf697",
   "metadata": {},
   "outputs": [
    {
     "name": "stdout",
     "output_type": "stream",
     "text": [
      "     * \n",
      "    * * \n",
      "   * * * \n",
      "  * * * * \n",
      " * * * * * \n",
      "* * * * * * \n"
     ]
    }
   ],
   "source": [
    "i = 0\n",
    "while i<=5:\n",
    "    k= 4\n",
    "    while k>=i:\n",
    "        print(\" \",end='')\n",
    "        k= k-1\n",
    "    j = 0\n",
    "    while j<=i:\n",
    "        print('* ',end = '')\n",
    "        j= j+1     \n",
    "    print()\n",
    "    i = i+1"
   ]
  },
  {
   "cell_type": "markdown",
   "id": "c786cea0",
   "metadata": {},
   "source": [
    "#continue and break keyword\n",
    "continue is used to skip the current iteration when given condition meet\n",
    "break is used to stop loop/iteration of item from given list or range of item...."
   ]
  },
  {
   "cell_type": "code",
   "execution_count": null,
   "id": "0efd703f",
   "metadata": {},
   "outputs": [],
   "source": [
    "i = 1\n",
    "while i <=10:\n",
    "    if i==6:\n",
    "        continue\n",
    "    print(7*i)\n",
    "    i=i+1"
   ]
  },
  {
   "cell_type": "code",
   "execution_count": null,
   "id": "6ec7013e",
   "metadata": {},
   "outputs": [],
   "source": [
    "i = 1\n",
    "while i<=10:\n",
    "    if i==7:\n",
    "        continue    \n",
    "    print(i*7)\n",
    "    i = i+1"
   ]
  },
  {
   "cell_type": "code",
   "execution_count": null,
   "id": "ad06774e",
   "metadata": {},
   "outputs": [],
   "source": [
    "i = 1\n",
    "while i<=10:\n",
    "    if i==7:\n",
    "        continue    \n",
    "    print(i*7)\n",
    "    i = i+1"
   ]
  },
  {
   "cell_type": "code",
   "execution_count": 66,
   "id": "5834e8b9",
   "metadata": {},
   "outputs": [
    {
     "name": "stdout",
     "output_type": "stream",
     "text": [
      "enter the loop4\n",
      "16\n",
      "12\n",
      "8\n",
      "4\n"
     ]
    }
   ],
   "source": [
    "num = int(input(\"enter the loop\"))\n",
    "i = num\n",
    "while i <=num:\n",
    "    print(i*num)\n",
    "    i = i-1\n",
    "    if i==0:\n",
    "        break"
   ]
  },
  {
   "cell_type": "code",
   "execution_count": 72,
   "id": "c6e5d59d",
   "metadata": {},
   "outputs": [
    {
     "name": "stdout",
     "output_type": "stream",
     "text": [
      "enter the loop::4\n",
      "****\n",
      "***\n",
      "**\n",
      "*\n"
     ]
    }
   ],
   "source": [
    "num = int(input(\"enter the loop::\"))\n",
    "i = 1\n",
    "while num>=i:\n",
    "    j = 1\n",
    "    while j<=num:\n",
    "        print('*',end='')\n",
    "        j=j+1    \n",
    "    print()\n",
    "    num = num-1"
   ]
  },
  {
   "cell_type": "code",
   "execution_count": 101,
   "id": "343a4469",
   "metadata": {},
   "outputs": [
    {
     "name": "stdout",
     "output_type": "stream",
     "text": [
      "Enter the number::-2\n",
      "please check number once\n"
     ]
    }
   ],
   "source": [
    "#write prgoram to identidy prime number or not\n",
    "num = int(input(\"Enter the number::\"))\n",
    "if num>1:\n",
    "    for i in range(2,num):\n",
    "        if num%i==0:\n",
    "            break\n",
    "            print('not prime number')\n",
    "        else:\n",
    "            print('its prime number')\n",
    "else:\n",
    "    print('please check number once')"
   ]
  },
  {
   "cell_type": "code",
   "execution_count": null,
   "id": "5fd0fa47",
   "metadata": {},
   "outputs": [],
   "source": []
  },
  {
   "cell_type": "code",
   "execution_count": null,
   "id": "ad757f2f",
   "metadata": {},
   "outputs": [],
   "source": []
  },
  {
   "cell_type": "code",
   "execution_count": null,
   "id": "28c47c1c",
   "metadata": {},
   "outputs": [],
   "source": []
  },
  {
   "cell_type": "code",
   "execution_count": null,
   "id": "638062a8",
   "metadata": {},
   "outputs": [],
   "source": []
  },
  {
   "cell_type": "code",
   "execution_count": null,
   "id": "c4ba7fd3",
   "metadata": {},
   "outputs": [],
   "source": []
  },
  {
   "cell_type": "code",
   "execution_count": null,
   "id": "4052ce48",
   "metadata": {},
   "outputs": [],
   "source": []
  },
  {
   "cell_type": "code",
   "execution_count": null,
   "id": "3549c2f9",
   "metadata": {},
   "outputs": [],
   "source": []
  },
  {
   "cell_type": "code",
   "execution_count": null,
   "id": "cdb6b2fa",
   "metadata": {},
   "outputs": [],
   "source": []
  },
  {
   "cell_type": "code",
   "execution_count": null,
   "id": "7b9efcb6",
   "metadata": {},
   "outputs": [],
   "source": []
  },
  {
   "cell_type": "code",
   "execution_count": null,
   "id": "15b05363",
   "metadata": {},
   "outputs": [],
   "source": []
  },
  {
   "cell_type": "code",
   "execution_count": null,
   "id": "0caca77b",
   "metadata": {},
   "outputs": [],
   "source": []
  },
  {
   "cell_type": "code",
   "execution_count": null,
   "id": "db45f51a",
   "metadata": {},
   "outputs": [],
   "source": []
  },
  {
   "cell_type": "code",
   "execution_count": null,
   "id": "ff356234",
   "metadata": {},
   "outputs": [],
   "source": []
  },
  {
   "cell_type": "code",
   "execution_count": null,
   "id": "3e5e1d52",
   "metadata": {},
   "outputs": [],
   "source": []
  }
 ],
 "metadata": {
  "kernelspec": {
   "display_name": "Python 3 (ipykernel)",
   "language": "python",
   "name": "python3"
  },
  "language_info": {
   "codemirror_mode": {
    "name": "ipython",
    "version": 3
   },
   "file_extension": ".py",
   "mimetype": "text/x-python",
   "name": "python",
   "nbconvert_exporter": "python",
   "pygments_lexer": "ipython3",
   "version": "3.9.12"
  }
 },
 "nbformat": 4,
 "nbformat_minor": 5
}
