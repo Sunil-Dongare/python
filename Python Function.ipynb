{
 "cells": [
  {
   "cell_type": "code",
   "execution_count": null,
   "id": "a1e48bed",
   "metadata": {},
   "outputs": [],
   "source": []
  },
  {
   "cell_type": "code",
   "execution_count": null,
   "id": "8a62f20d",
   "metadata": {},
   "outputs": [],
   "source": [
    "def greeting():\n",
    "    print(\"Hello\",\"Sunil\")\n",
    "    print(\"todays learning python function\")\n",
    "    print(\"and call function\")"
   ]
  },
  {
   "cell_type": "code",
   "execution_count": null,
   "id": "f7a3e236",
   "metadata": {},
   "outputs": [],
   "source": [
    "greeting()"
   ]
  },
  {
   "cell_type": "code",
   "execution_count": null,
   "id": "1c3b6aa6",
   "metadata": {},
   "outputs": [],
   "source": [
    "def greeting(name):\n",
    "    print(\"Hello\",name)\n",
    "    print(\"today class about function\")\n",
    "    print(\"All the best!\")"
   ]
  },
  {
   "cell_type": "code",
   "execution_count": null,
   "id": "1c941a32",
   "metadata": {},
   "outputs": [],
   "source": [
    "greeting('sunny')"
   ]
  },
  {
   "cell_type": "code",
   "execution_count": null,
   "id": "6e0df203",
   "metadata": {},
   "outputs": [],
   "source": [
    "#c = input(\"cost of product::\")\n",
    "#p = input(\"selling price::\")\n",
    "def profit_loss(p,c):\n",
    "    if p>c:\n",
    "        profit = p-c\n",
    "        return \n",
    "        #print(\"Earned profit is\",margin)\n",
    "    else:\n",
    "        print(\"Making loss\")\n"
   ]
  },
  {
   "cell_type": "code",
   "execution_count": 1,
   "id": "ec408a4f",
   "metadata": {},
   "outputs": [
    {
     "name": "stdout",
     "output_type": "stream",
     "text": [
      "Enter the cost price: 300\n",
      "Enter the selling price: 500\n",
      "Profit: 200.0\n"
     ]
    }
   ],
   "source": [
    "def calculate_profit_loss(cost_price, selling_price):\n",
    "    profit_loss = selling_price - cost_price\n",
    "    if profit_loss > 0:\n",
    "        return \"Profit: \" + str(profit_loss)\n",
    "    elif profit_loss < 0:\n",
    "        return \"Loss: \" + str(-profit_loss)\n",
    "    else:\n",
    "        return \"Neither profit nor loss\"\n",
    "\n",
    "cost_price = float(input(\"Enter the cost price: \"))\n",
    "selling_price = float(input(\"Enter the selling price: \"))\n",
    "result = calculate_profit_loss(cost_price, selling_price)\n",
    "print(result)"
   ]
  },
  {
   "cell_type": "code",
   "execution_count": null,
   "id": "54fd449b",
   "metadata": {},
   "outputs": [],
   "source": [
    "#function of addition\n",
    "def n_add(num):\n",
    "    summ = 0\n",
    "    for i in range(num):\n",
    "        summ = summ + i      \n",
    "        return summ"
   ]
  },
  {
   "cell_type": "code",
   "execution_count": null,
   "id": "fd94d6bb",
   "metadata": {},
   "outputs": [],
   "source": [
    "n_add(3)"
   ]
  },
  {
   "cell_type": "code",
   "execution_count": null,
   "id": "29a96918",
   "metadata": {},
   "outputs": [],
   "source": [
    "def n_add(n):\n",
    "    summ = 0\n",
    "    for i in range(1,n+1):\n",
    "        summ = summ+i\n",
    "    return summ"
   ]
  },
  {
   "cell_type": "code",
   "execution_count": null,
   "id": "5e11bc2f",
   "metadata": {},
   "outputs": [],
   "source": [
    "n_add(3)"
   ]
  },
  {
   "cell_type": "code",
   "execution_count": null,
   "id": "51c2a58e",
   "metadata": {},
   "outputs": [],
   "source": [
    "n = 3\n",
    "sum = 0\n",
    "for i in range(1,n+1):\n",
    "    sum = sum + i\n",
    "    #print(i)\n",
    "print(sum)"
   ]
  },
  {
   "cell_type": "code",
   "execution_count": null,
   "id": "259817d9",
   "metadata": {},
   "outputs": [],
   "source": [
    "n_add(3)"
   ]
  },
  {
   "cell_type": "code",
   "execution_count": null,
   "id": "5b404f4c",
   "metadata": {},
   "outputs": [],
   "source": [
    "#cp = input(\"cost of product::\")\n",
    "#sp = input(\"selling price::\")\n",
    "def profit_loss(sp,cp):\n",
    "    if sp>cp:\n",
    "        profit = sp-cp\n",
    "        return profit\n",
    "    elif sp==cp:\n",
    "        return 'no profit no loss'\n",
    "    else:\n",
    "        loss = cp-sp\n",
    "        return loss"
   ]
  },
  {
   "cell_type": "code",
   "execution_count": null,
   "id": "2b0d0def",
   "metadata": {},
   "outputs": [],
   "source": [
    "profit_loss(15,12)"
   ]
  },
  {
   "cell_type": "code",
   "execution_count": null,
   "id": "d6e37b0b",
   "metadata": {},
   "outputs": [],
   "source": [
    "#write factorial\n",
    "num = int(input(\"enter the number::\"))\n",
    "f = 1\n",
    "for i in range(1,num+1):\n",
    "    f = f*i\n",
    "print(f)"
   ]
  },
  {
   "cell_type": "code",
   "execution_count": null,
   "id": "96ba1cb9",
   "metadata": {},
   "outputs": [],
   "source": [
    "def factorial(num):\n",
    "    if num<0:\n",
    "        \n",
    "        return 'number should be positive'\n",
    "        f = 1\n",
    "        for i in range(1,num+1):\n",
    "            f = f*i\n",
    "            return f"
   ]
  },
  {
   "cell_type": "code",
   "execution_count": null,
   "id": "ef4b596b",
   "metadata": {},
   "outputs": [],
   "source": [
    "factorial(5)"
   ]
  },
  {
   "cell_type": "code",
   "execution_count": null,
   "id": "256d6d84",
   "metadata": {},
   "outputs": [],
   "source": [
    "def fact(x):\n",
    "    if x<0:\n",
    "        return 'Enter +ve no'\n",
    "    elif x==0:\n",
    "        return 1\n",
    "    else:\n",
    "        fac=1\n",
    "        for i in range (1, x+1):\n",
    "            fac=fac*i\n",
    "        return fac"
   ]
  },
  {
   "cell_type": "code",
   "execution_count": null,
   "id": "b62f81f6",
   "metadata": {},
   "outputs": [],
   "source": [
    "fact(4)"
   ]
  },
  {
   "cell_type": "code",
   "execution_count": 4,
   "id": "8a75526b",
   "metadata": {},
   "outputs": [],
   "source": [
    "#2,3,5,7,9,11,13,..... prime numbers\n",
    "def is_prime(n):\n",
    "    for i in range(2, n):\n",
    "        if n % i == 0:\n",
    "            return 'not prime number'\n",
    "    else:\n",
    "        return 'prime number',n"
   ]
  },
  {
   "cell_type": "code",
   "execution_count": null,
   "id": "5567885b",
   "metadata": {},
   "outputs": [],
   "source": [
    "is_prime(13)"
   ]
  },
  {
   "cell_type": "code",
   "execution_count": null,
   "id": "e2dfcd72",
   "metadata": {},
   "outputs": [],
   "source": [
    "#sum of number::\n"
   ]
  },
  {
   "cell_type": "code",
   "execution_count": null,
   "id": "07c01409",
   "metadata": {},
   "outputs": [],
   "source": [
    "#next prime number::\n"
   ]
  },
  {
   "cell_type": "code",
   "execution_count": 36,
   "id": "3831a601",
   "metadata": {},
   "outputs": [],
   "source": []
  },
  {
   "cell_type": "code",
   "execution_count": 35,
   "id": "4796bf6f",
   "metadata": {},
   "outputs": [
    {
     "data": {
      "text/plain": [
       "1"
      ]
     },
     "execution_count": 35,
     "metadata": {},
     "output_type": "execute_result"
    }
   ],
   "source": []
  },
  {
   "cell_type": "code",
   "execution_count": 30,
   "id": "27a949f6",
   "metadata": {},
   "outputs": [
    {
     "data": {
      "text/plain": [
       "1"
      ]
     },
     "execution_count": 30,
     "metadata": {},
     "output_type": "execute_result"
    }
   ],
   "source": [
    "addition(1,2,3)"
   ]
  },
  {
   "cell_type": "code",
   "execution_count": 40,
   "id": "9bb3e052",
   "metadata": {},
   "outputs": [],
   "source": [
    "def addition(*num):\n",
    "    sum1 = 0 \n",
    "    for i in (num):        \n",
    "        sum1 = sum1+i\n",
    "    return sum1"
   ]
  },
  {
   "cell_type": "code",
   "execution_count": 41,
   "id": "7ab9e546",
   "metadata": {},
   "outputs": [
    {
     "data": {
      "text/plain": [
       "6"
      ]
     },
     "execution_count": 41,
     "metadata": {},
     "output_type": "execute_result"
    }
   ],
   "source": [
    "addition(1,2,3)"
   ]
  },
  {
   "cell_type": "code",
   "execution_count": null,
   "id": "6b274255",
   "metadata": {},
   "outputs": [],
   "source": []
  },
  {
   "cell_type": "code",
   "execution_count": null,
   "id": "8dc300df",
   "metadata": {},
   "outputs": [],
   "source": []
  },
  {
   "cell_type": "code",
   "execution_count": null,
   "id": "4af6e97d",
   "metadata": {},
   "outputs": [],
   "source": []
  },
  {
   "cell_type": "code",
   "execution_count": null,
   "id": "c07195bc",
   "metadata": {},
   "outputs": [],
   "source": []
  },
  {
   "cell_type": "code",
   "execution_count": null,
   "id": "75ffdde9",
   "metadata": {},
   "outputs": [],
   "source": []
  },
  {
   "cell_type": "code",
   "execution_count": null,
   "id": "db1de47c",
   "metadata": {},
   "outputs": [],
   "source": []
  },
  {
   "cell_type": "code",
   "execution_count": null,
   "id": "55296e9d",
   "metadata": {},
   "outputs": [],
   "source": []
  },
  {
   "cell_type": "code",
   "execution_count": null,
   "id": "ffbffa99",
   "metadata": {},
   "outputs": [],
   "source": []
  },
  {
   "cell_type": "code",
   "execution_count": null,
   "id": "d4db4de0",
   "metadata": {},
   "outputs": [],
   "source": [
    "#no argument no return\n",
    "#with arguments and no return values\n",
    "#with arguments and with return values\n",
    "#no arguments and with return values"
   ]
  },
  {
   "cell_type": "code",
   "execution_count": null,
   "id": "10aebad4",
   "metadata": {},
   "outputs": [],
   "source": []
  },
  {
   "cell_type": "code",
   "execution_count": null,
   "id": "96906692",
   "metadata": {},
   "outputs": [],
   "source": []
  },
  {
   "cell_type": "code",
   "execution_count": null,
   "id": "9b9637c1",
   "metadata": {},
   "outputs": [],
   "source": []
  },
  {
   "cell_type": "code",
   "execution_count": 12,
   "id": "45e8b7f9",
   "metadata": {},
   "outputs": [],
   "source": [
    "#no argument no return\n",
    "\n",
    "def add():\n",
    "    a = 10\n",
    "    b = 20\n",
    "    c = a+b\n",
    "    print(c)  #scope limited to function only\n",
    "    #return c   #???? #we can use this outside the function also"
   ]
  },
  {
   "cell_type": "code",
   "execution_count": 18,
   "id": "62a8114a",
   "metadata": {},
   "outputs": [
    {
     "name": "stdout",
     "output_type": "stream",
     "text": [
      "30\n"
     ]
    }
   ],
   "source": [
    "t = add()"
   ]
  },
  {
   "cell_type": "code",
   "execution_count": 6,
   "id": "0b4e3be4",
   "metadata": {},
   "outputs": [
    {
     "name": "stdout",
     "output_type": "stream",
     "text": [
      "30\n"
     ]
    }
   ],
   "source": [
    "#with arguments and no return values\n"
   ]
  },
  {
   "cell_type": "code",
   "execution_count": 19,
   "id": "1a7944c3",
   "metadata": {},
   "outputs": [
    {
     "data": {
      "text/plain": [
       "30"
      ]
     },
     "execution_count": 19,
     "metadata": {},
     "output_type": "execute_result"
    }
   ],
   "source": [
    "t"
   ]
  }
 ],
 "metadata": {
  "kernelspec": {
   "display_name": "Python 3 (ipykernel)",
   "language": "python",
   "name": "python3"
  },
  "language_info": {
   "codemirror_mode": {
    "name": "ipython",
    "version": 3
   },
   "file_extension": ".py",
   "mimetype": "text/x-python",
   "name": "python",
   "nbconvert_exporter": "python",
   "pygments_lexer": "ipython3",
   "version": "3.9.12"
  }
 },
 "nbformat": 4,
 "nbformat_minor": 5
}
