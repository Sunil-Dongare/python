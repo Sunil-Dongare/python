{
 "cells": [
  {
   "cell_type": "code",
   "execution_count": 1,
   "id": "5f52239f",
   "metadata": {},
   "outputs": [
    {
     "name": "stdout",
     "output_type": "stream",
     "text": [
      "1\n",
      "2\n",
      "3\n",
      "4\n",
      "5\n",
      "6\n",
      "7\n",
      "8\n",
      "9\n",
      "10\n"
     ]
    }
   ],
   "source": [
    "#write 7 table in while loop\n",
    "i =1\n",
    "while i <=10:\n",
    "    \n",
    "    print(i)\n",
    "    i = i+1\n"
   ]
  },
  {
   "cell_type": "code",
   "execution_count": null,
   "id": "dae7c131",
   "metadata": {},
   "outputs": [],
   "source": [
    "#star pattern\n",
    "#*\n",
    "#**\n",
    "#***\n",
    "#****\n",
    "#*****"
   ]
  },
  {
   "cell_type": "code",
   "execution_count": 6,
   "id": "c01a1b85",
   "metadata": {},
   "outputs": [
    {
     "name": "stdout",
     "output_type": "stream",
     "text": [
      "enter the loop value::5\n",
      "*****\n",
      "****\n",
      "***\n",
      "**\n",
      "*\n",
      "\n"
     ]
    }
   ],
   "source": [
    "l = int(input(\"enter the loop value::\"))\n",
    "\n",
    "while l>=0:\n",
    "    \n",
    "    j= 1\n",
    "    while j<=l:\n",
    "        print('*',end='')\n",
    "        j = j+1\n",
    "    \n",
    "    print(\"\")\n",
    "    l = l-1"
   ]
  },
  {
   "cell_type": "code",
   "execution_count": 9,
   "id": "505cee45",
   "metadata": {},
   "outputs": [
    {
     "name": "stdout",
     "output_type": "stream",
     "text": [
      "no of star in row::5\n",
      " x  x  x  x  x  x "
     ]
    }
   ],
   "source": [
    "s = int(input(\"no of star in row::\"))\n",
    "\n",
    "while s>=0:\n",
    "    print(\" x \",end='')\n",
    "    s = s-1"
   ]
  },
  {
   "cell_type": "code",
   "execution_count": 14,
   "id": "fb9ee83b",
   "metadata": {},
   "outputs": [
    {
     "name": "stdout",
     "output_type": "stream",
     "text": [
      "Main loop::5\n",
      "x*\n",
      "xx*\n",
      "xxx*\n",
      "xxxx*\n",
      "xxxxx*\n",
      "xxxxxx*\n"
     ]
    }
   ],
   "source": [
    "n = int(input(\"Main loop::\"))\n",
    "i = 0\n",
    "while i<=n:\n",
    "    j = 0\n",
    "    while j<=i:\n",
    "        print(\"x\",end='')\n",
    "        j = j+1\n",
    "    \n",
    "    print(\"*\")\n",
    "    i = i+1"
   ]
  },
  {
   "cell_type": "code",
   "execution_count": 1,
   "id": "5be992eb",
   "metadata": {},
   "outputs": [],
   "source": [
    "def factorial(num):\n",
    "    if num < 0:\n",
    "        return 'number should be positive'\n",
    "    f = 1\n",
    "    for i in range(1,num+1):\n",
    "        f = f*i\n",
    "        return f"
   ]
  },
  {
   "cell_type": "code",
   "execution_count": 2,
   "id": "41b6c130",
   "metadata": {},
   "outputs": [
    {
     "data": {
      "text/plain": [
       "1"
      ]
     },
     "execution_count": 2,
     "metadata": {},
     "output_type": "execute_result"
    }
   ],
   "source": [
    "factorial(5)"
   ]
  }
 ],
 "metadata": {
  "kernelspec": {
   "display_name": "Python 3 (ipykernel)",
   "language": "python",
   "name": "python3"
  },
  "language_info": {
   "codemirror_mode": {
    "name": "ipython",
    "version": 3
   },
   "file_extension": ".py",
   "mimetype": "text/x-python",
   "name": "python",
   "nbconvert_exporter": "python",
   "pygments_lexer": "ipython3",
   "version": "3.9.12"
  }
 },
 "nbformat": 4,
 "nbformat_minor": 5
}
