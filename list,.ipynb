{
 "cells": [
  {
   "cell_type": "code",
   "execution_count": 1,
   "id": "37e697f0",
   "metadata": {},
   "outputs": [],
   "source": [
    "a = 12,12,12,14,15,13,45,565"
   ]
  },
  {
   "cell_type": "code",
   "execution_count": 2,
   "id": "c61cf00e",
   "metadata": {},
   "outputs": [
    {
     "data": {
      "text/plain": [
       "(12, 12, 12, 14, 15, 13, 45, 565)"
      ]
     },
     "execution_count": 2,
     "metadata": {},
     "output_type": "execute_result"
    }
   ],
   "source": [
    "a"
   ]
  },
  {
   "cell_type": "code",
   "execution_count": null,
   "id": "472a58d0",
   "metadata": {},
   "outputs": [],
   "source": [
    "Write a Python program to sum of two given integers. However, if the sum is\n",
    "between 15 to 20 it will return 20.\n",
    "how to solve this sir"
   ]
  },
  {
   "cell_type": "code",
   "execution_count": 10,
   "id": "be196dbc",
   "metadata": {},
   "outputs": [
    {
     "name": "stdout",
     "output_type": "stream",
     "text": [
      "fisrt Number::8\n",
      "seconf number::7\n",
      "20\n"
     ]
    }
   ],
   "source": [
    "a = int(input(\"fisrt Number::\"))\n",
    "b = int(input(\"seconf number::\"))\n",
    "c = a+b\n",
    "if c >= 15 and c<=20:\n",
    "    print(\"20\")\n",
    "else:\n",
    "    print(\"number is grether than 20\")"
   ]
  },
  {
   "cell_type": "code",
   "execution_count": 18,
   "id": "61a5b91f",
   "metadata": {},
   "outputs": [],
   "source": [
    "def is_20(a,b):\n",
    "    sum = a+b\n",
    "    if sum >= 15 and sum<=20:\n",
    "        return 20\n",
    "    else:\n",
    "        return 'out'\n",
    "       "
   ]
  },
  {
   "cell_type": "code",
   "execution_count": 19,
   "id": "ef7451c1",
   "metadata": {},
   "outputs": [
    {
     "data": {
      "text/plain": [
       "'out'"
      ]
     },
     "execution_count": 19,
     "metadata": {},
     "output_type": "execute_result"
    }
   ],
   "source": [
    "is_20(10,12)"
   ]
  },
  {
   "cell_type": "code",
   "execution_count": 26,
   "id": "0d1161b8",
   "metadata": {},
   "outputs": [],
   "source": [
    "def sum(a,b):\n",
    "    "
   ]
  },
  {
   "cell_type": "code",
   "execution_count": 27,
   "id": "97cad8fe",
   "metadata": {},
   "outputs": [
    {
     "name": "stdout",
     "output_type": "stream",
     "text": [
      "sum\n"
     ]
    }
   ],
   "source": [
    "sum(10,10)"
   ]
  },
  {
   "cell_type": "code",
   "execution_count": null,
   "id": "3a5f26ea",
   "metadata": {},
   "outputs": [],
   "source": [
    "list = []"
   ]
  },
  {
   "cell_type": "code",
   "execution_count": 12,
   "id": "841f30a8",
   "metadata": {},
   "outputs": [],
   "source": [
    "\n",
    "s_list=['Andhra Pradesh',\n",
    "'Arunachal Pradesh',\n",
    "'Assam',\n",
    "'Bihar',\n",
    "'Chhattisgarh'\n",
    ",'Goa',\n",
    "'Gujarat',\n",
    "'Haryana',\n",
    "'Himachal Pradesh',\n",
    "'Jharkhand',\n",
    "'Karnataka',\n",
    "'Kerala',\n",
    "'Madhya Pradesh',\n",
    "'Maharashtra',\n",
    "'Manipur',\n",
    "'Meghalaya',\n",
    "'Mizoram',\n",
    "'Nagaland',\n",
    "'Odisha',\n",
    "'Punjab',\n",
    "'Rajasthan',\n",
    "'Sikkim',\n",
    "'Tamil Nadu',\n",
    "'Telangana',\n",
    "'Tripura',\n",
    "'Uttarakhand',\n",
    "'Uttar Pradesh',\n",
    "'WestBengal']\n",
    "def is_state(s):\n",
    "    if s in s_list:\n",
    "        return True\n",
    "    else:\n",
    "        return False"
   ]
  },
  {
   "cell_type": "code",
   "execution_count": 13,
   "id": "1d73e29d",
   "metadata": {
    "scrolled": true
   },
   "outputs": [
    {
     "name": "stdout",
     "output_type": "stream",
     "text": [
      "enter the state name::Haryana\n",
      "State availabe in Given list\n"
     ]
    }
   ],
   "source": [
    "s = input(\"enter the state name::\")\n",
    "if is_state(s)==True:\n",
    "    print(\"State availabe in Given list\")\n",
    "else:\n",
    "    print(\"please check input\")"
   ]
  },
  {
   "cell_type": "code",
   "execution_count": 2,
   "id": "8995566b",
   "metadata": {},
   "outputs": [],
   "source": [
    "sq_list = [ x * x for x in range(10)]"
   ]
  },
  {
   "cell_type": "code",
   "execution_count": 3,
   "id": "4ed7f08e",
   "metadata": {},
   "outputs": [
    {
     "data": {
      "text/plain": [
       "[0, 1, 4, 9, 16, 25, 36, 49, 64, 81]"
      ]
     },
     "execution_count": 3,
     "metadata": {},
     "output_type": "execute_result"
    }
   ],
   "source": [
    "sq_list"
   ]
  },
  {
   "cell_type": "code",
   "execution_count": 73,
   "id": "ae5cc73c",
   "metadata": {},
   "outputs": [],
   "source": [
    "def sqr_lst(n):\n",
    "    s_list = []\n",
    "    for i in range(1,n+1):\n",
    "        s_list.append(i*i)\n",
    "        \n",
    "        \n",
    "    print(s_list)"
   ]
  },
  {
   "cell_type": "code",
   "execution_count": 76,
   "id": "d199fac7",
   "metadata": {},
   "outputs": [
    {
     "name": "stdout",
     "output_type": "stream",
     "text": [
      "[1, 4, 9, 16, 25, 36, 49, 64, 81, 100]\n"
     ]
    }
   ],
   "source": [
    "sqr_lst(10)"
   ]
  },
  {
   "cell_type": "code",
   "execution_count": 9,
   "id": "7dbda990",
   "metadata": {},
   "outputs": [
    {
     "name": "stdout",
     "output_type": "stream",
     "text": [
      "number::20\n"
     ]
    }
   ],
   "source": [
    "n = int(input(\"number::\"))\n",
    "def sqr_lst(n):\n",
    "    for i in range(1,n+1):\n",
    "        \n",
    "        s_list.append(i)"
   ]
  },
  {
   "cell_type": "code",
   "execution_count": 28,
   "id": "1bd4b8c0",
   "metadata": {},
   "outputs": [
    {
     "name": "stdout",
     "output_type": "stream",
     "text": [
      "[1, 2, 3, 4, 5, 6, 7, 8, 9, 10]\n"
     ]
    }
   ],
   "source": [
    "list1 = []\n",
    "for i in range(1,n+1):\n",
    "    list1.append(i)\n",
    "print(list1)"
   ]
  },
  {
   "cell_type": "code",
   "execution_count": 3,
   "id": "d96717b5",
   "metadata": {},
   "outputs": [],
   "source": [
    "list1 = [1, 2, 3, 4, 5, 6, 7, 8, 9, 10]"
   ]
  },
  {
   "cell_type": "code",
   "execution_count": 32,
   "id": "dd38ca88",
   "metadata": {},
   "outputs": [],
   "source": [
    "def r_list(list1):\n",
    "    r1_list = []\n",
    "    for i in (list1,1,-1):\n",
    "        print(i)"
   ]
  },
  {
   "cell_type": "code",
   "execution_count": 33,
   "id": "f4fc898e",
   "metadata": {},
   "outputs": [
    {
     "name": "stdout",
     "output_type": "stream",
     "text": [
      "[1, 2, 3, 4, 5, 6, 7, 8, 9, 10]\n",
      "1\n",
      "-1\n"
     ]
    }
   ],
   "source": [
    "r_list(list1)"
   ]
  },
  {
   "cell_type": "code",
   "execution_count": 4,
   "id": "8c2e8f93",
   "metadata": {},
   "outputs": [
    {
     "name": "stdout",
     "output_type": "stream",
     "text": [
      "[1, 2, 3, 4, 5, 6, 7, 8, 9, 10]\n"
     ]
    }
   ],
   "source": [
    "r_l=[]\n",
    "for i in list1:\n",
    "    r_l.append(i)\n",
    "print(r_l)"
   ]
  },
  {
   "cell_type": "code",
   "execution_count": 20,
   "id": "6fbf3cab",
   "metadata": {},
   "outputs": [],
   "source": [
    "list1 = [1, 2, 3, 4, 5, 6, 7, 8, 9, 10]"
   ]
  },
  {
   "cell_type": "code",
   "execution_count": 5,
   "id": "66fecffd",
   "metadata": {},
   "outputs": [],
   "source": [
    "re_list = list1[::-1]"
   ]
  },
  {
   "cell_type": "code",
   "execution_count": 6,
   "id": "8a32f9eb",
   "metadata": {},
   "outputs": [
    {
     "data": {
      "text/plain": [
       "[10, 9, 8, 7, 6, 5, 4, 3, 2, 1]"
      ]
     },
     "execution_count": 6,
     "metadata": {},
     "output_type": "execute_result"
    }
   ],
   "source": [
    "re_list"
   ]
  },
  {
   "cell_type": "code",
   "execution_count": 7,
   "id": "fd7826dc",
   "metadata": {},
   "outputs": [],
   "source": [
    "rev_lst = list1.reverse()"
   ]
  },
  {
   "cell_type": "code",
   "execution_count": 10,
   "id": "a7676ed3",
   "metadata": {},
   "outputs": [
    {
     "name": "stdout",
     "output_type": "stream",
     "text": [
      "None\n"
     ]
    }
   ],
   "source": [
    "print(rev_lst)"
   ]
  },
  {
   "cell_type": "code",
   "execution_count": null,
   "id": "eae9bb48",
   "metadata": {},
   "outputs": [],
   "source": [
    "list1 = []\n",
    "n = int(input(\"numberr::\"))\n",
    "def \n",
    "for i in range(1,n+1):\n",
    "    list1.append(i)\n",
    "\n",
    "print(list1)"
   ]
  },
  {
   "cell_type": "code",
   "execution_count": 22,
   "id": "3d356f70",
   "metadata": {},
   "outputs": [
    {
     "name": "stdout",
     "output_type": "stream",
     "text": [
      "[10, 9, 8, 7, 6, 5, 4, 3, 2, 1]\n"
     ]
    }
   ],
   "source": [
    "list2 = []\n",
    "for i in list1:\n",
    "    \n",
    "    list2.insert(0,i)\n",
    "print(list2)\n",
    "\n",
    "    "
   ]
  },
  {
   "cell_type": "markdown",
   "id": "181067d1",
   "metadata": {},
   "source": [
    "def \n",
    "revr_list= []\n",
    "for i in range(11):\n",
    "    \n",
    "    revr_list.insert(0,i)\n",
    "print(revr_list)"
   ]
  },
  {
   "cell_type": "code",
   "execution_count": 24,
   "id": "8dee599b",
   "metadata": {},
   "outputs": [],
   "source": [
    "num = [1,2,3,4,5,6,7,8,9,10]"
   ]
  },
  {
   "cell_type": "code",
   "execution_count": null,
   "id": "a619e79e",
   "metadata": {},
   "outputs": [],
   "source": [
    "num = [1,2,3,4,5,6,7,8,['apple','drgn','pineapple'],9,10]"
   ]
  },
  {
   "cell_type": "code",
   "execution_count": 34,
   "id": "e26068a5",
   "metadata": {},
   "outputs": [],
   "source": [
    "fruits = ('banana','org','apple','drgn','pineapple','wtermelon')"
   ]
  },
  {
   "cell_type": "code",
   "execution_count": 31,
   "id": "e44a3bff",
   "metadata": {},
   "outputs": [],
   "source": [
    "def rever_list(num):\n",
    "    n_list = []\n",
    "    for i in num:\n",
    "        n_list.insert(0,i)\n",
    "        \n",
    "    print(n_list)"
   ]
  },
  {
   "cell_type": "code",
   "execution_count": 35,
   "id": "4302aefb",
   "metadata": {},
   "outputs": [
    {
     "name": "stdout",
     "output_type": "stream",
     "text": [
      "['wtermelon', 'pineapple', 'drgn', 'apple', 'org', 'banana']\n"
     ]
    }
   ],
   "source": [
    "rever_list(fruits)"
   ]
  },
  {
   "cell_type": "code",
   "execution_count": null,
   "id": "fa7a9ce3",
   "metadata": {},
   "outputs": [],
   "source": [
    "#extend function\n",
    "num = [1,2,3,4,5,6,7,8,9,10]\n",
    "fruits = ['apple','drgn','pineapple']\n",
    "\n",
    "def extend2(fruits):\n",
    "    for i in fruits:\n",
    "        num.append(i)\n",
    "    return num   "
   ]
  },
  {
   "cell_type": "code",
   "execution_count": null,
   "id": "5dea369c",
   "metadata": {},
   "outputs": [],
   "source": [
    "print(extend2(fruits))"
   ]
  },
  {
   "cell_type": "code",
   "execution_count": null,
   "id": "37007c6f",
   "metadata": {},
   "outputs": [],
   "source": [
    "list3 = [6,7,8,9,10]\n",
    "list4 = ['banana','org','apple','drgn']\n",
    "list3.extend2(list4)"
   ]
  },
  {
   "cell_type": "code",
   "execution_count": 52,
   "id": "842b0e5e",
   "metadata": {},
   "outputs": [
    {
     "ename": "AttributeError",
     "evalue": "'list' object has no attribute 'extend2'",
     "output_type": "error",
     "traceback": [
      "\u001b[1;31m---------------------------------------------------------------------------\u001b[0m",
      "\u001b[1;31mAttributeError\u001b[0m                            Traceback (most recent call last)",
      "Input \u001b[1;32mIn [52]\u001b[0m, in \u001b[0;36m<cell line: 1>\u001b[1;34m()\u001b[0m\n\u001b[1;32m----> 1\u001b[0m \u001b[38;5;28mprint\u001b[39m(\u001b[43mlist3\u001b[49m\u001b[38;5;241;43m.\u001b[39;49m\u001b[43mextend2\u001b[49m(list4))\n",
      "\u001b[1;31mAttributeError\u001b[0m: 'list' object has no attribute 'extend2'"
     ]
    }
   ],
   "source": [
    "print(list3.extend2(list4))"
   ]
  },
  {
   "cell_type": "code",
   "execution_count": null,
   "id": "7fa13e07",
   "metadata": {},
   "outputs": [],
   "source": [
    "need two arrgument in function"
   ]
  },
  {
   "cell_type": "code",
   "execution_count": 65,
   "id": "ebb53f67",
   "metadata": {},
   "outputs": [],
   "source": [
    "list1 = [1,2,3,4]\n",
    "list2 = [5,6,7,8]"
   ]
  },
  {
   "cell_type": "code",
   "execution_count": 66,
   "id": "319c37a2",
   "metadata": {},
   "outputs": [],
   "source": [
    "def extend2(list1,list2):\n",
    "    for i in list2:\n",
    "        list1.append(i)\n",
    "    return list1"
   ]
  },
  {
   "cell_type": "code",
   "execution_count": 67,
   "id": "f238250b",
   "metadata": {},
   "outputs": [
    {
     "name": "stdout",
     "output_type": "stream",
     "text": [
      "[5, 6, 7, 8, 1, 2, 3, 4]\n"
     ]
    }
   ],
   "source": [
    "print(extend2(list2,list1))"
   ]
  },
  {
   "cell_type": "code",
   "execution_count": null,
   "id": "b1482cb6",
   "metadata": {},
   "outputs": [],
   "source": [
    "#copy list comprehsion\n"
   ]
  },
  {
   "cell_type": "code",
   "execution_count": null,
   "id": "b506b76c",
   "metadata": {},
   "outputs": [],
   "source": []
  },
  {
   "cell_type": "code",
   "execution_count": null,
   "id": "28532a42",
   "metadata": {},
   "outputs": [],
   "source": []
  },
  {
   "cell_type": "code",
   "execution_count": null,
   "id": "3edaa33c",
   "metadata": {},
   "outputs": [],
   "source": []
  },
  {
   "cell_type": "code",
   "execution_count": null,
   "id": "c773da56",
   "metadata": {},
   "outputs": [],
   "source": []
  }
 ],
 "metadata": {
  "kernelspec": {
   "display_name": "Python 3 (ipykernel)",
   "language": "python",
   "name": "python3"
  },
  "language_info": {
   "codemirror_mode": {
    "name": "ipython",
    "version": 3
   },
   "file_extension": ".py",
   "mimetype": "text/x-python",
   "name": "python",
   "nbconvert_exporter": "python",
   "pygments_lexer": "ipython3",
   "version": "3.9.12"
  }
 },
 "nbformat": 4,
 "nbformat_minor": 5
}
