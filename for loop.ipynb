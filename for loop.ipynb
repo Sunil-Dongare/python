{
 "cells": [
  {
   "cell_type": "code",
   "execution_count": 3,
   "id": "0f222d46",
   "metadata": {},
   "outputs": [
    {
     "name": "stdout",
     "output_type": "stream",
     "text": [
      "enter the number::1\n"
     ]
    },
    {
     "ename": "NameError",
     "evalue": "name 'num' is not defined",
     "output_type": "error",
     "traceback": [
      "\u001b[1;31m---------------------------------------------------------------------------\u001b[0m",
      "\u001b[1;31mNameError\u001b[0m                                 Traceback (most recent call last)",
      "Input \u001b[1;32mIn [3]\u001b[0m, in \u001b[0;36m<cell line: 4>\u001b[1;34m()\u001b[0m\n\u001b[0;32m      1\u001b[0m \u001b[38;5;66;03m#prime number\u001b[39;00m\n\u001b[0;32m      2\u001b[0m n \u001b[38;5;241m=\u001b[39m \u001b[38;5;28mint\u001b[39m(\u001b[38;5;28minput\u001b[39m(\u001b[38;5;124m\"\u001b[39m\u001b[38;5;124menter the number::\u001b[39m\u001b[38;5;124m\"\u001b[39m))\n\u001b[1;32m----> 4\u001b[0m \u001b[38;5;28;01mif\u001b[39;00m \u001b[43mnum\u001b[49m\u001b[38;5;241m==\u001b[39m\u001b[38;5;241m1\u001b[39m:\n\u001b[0;32m      5\u001b[0m     \u001b[38;5;28mprint\u001b[39m(\u001b[38;5;124m\"\u001b[39m\u001b[38;5;124mits not prime number\u001b[39m\u001b[38;5;124m\"\u001b[39m)\n\u001b[0;32m      6\u001b[0m \u001b[38;5;28;01melif\u001b[39;00m n\u001b[38;5;241m>\u001b[39m\u001b[38;5;241m1\u001b[39m:\n",
      "\u001b[1;31mNameError\u001b[0m: name 'num' is not defined"
     ]
    }
   ],
   "source": [
    "#prime number\n",
    "n = int(input(\"enter the number::\"))\n",
    "\n",
    "if num==1:\n",
    "    print(\"its not prime number\")\n",
    "elif n>1:\n",
    "    d=1\n",
    "    while n>=d:\n",
    "        if n%1==0 and n%n==0:\n",
    "            print(\"its prime number\",num)\n",
    "            d = d+1\n",
    "        else:\n",
    "            print(\"not prime number\")\n",
    "        \n",
    "        "
   ]
  },
  {
   "cell_type": "code",
   "execution_count": 9,
   "id": "58872d10",
   "metadata": {},
   "outputs": [
    {
     "name": "stdout",
     "output_type": "stream",
     "text": [
      "enter a number::1\n",
      "prime number\n"
     ]
    }
   ],
   "source": [
    "n = input(\"enter a number::\")\n",
    "\n",
    "if n==1 or n==0:\n",
    "    print(\"Not prime number\")\n",
    "else:\n",
    "    print(\"prime number\")"
   ]
  },
  {
   "cell_type": "code",
   "execution_count": 1,
   "id": "fa43a847",
   "metadata": {},
   "outputs": [
    {
     "name": "stdout",
     "output_type": "stream",
     "text": [
      "Enter the number::7\n",
      "7\n"
     ]
    },
    {
     "ename": "KeyboardInterrupt",
     "evalue": "",
     "output_type": "error",
     "traceback": [
      "\u001b[1;31m---------------------------------------------------------------------------\u001b[0m",
      "\u001b[1;31mKeyboardInterrupt\u001b[0m                         Traceback (most recent call last)",
      "Input \u001b[1;32mIn [1]\u001b[0m, in \u001b[0;36m<cell line: 3>\u001b[1;34m()\u001b[0m\n\u001b[0;32m      7\u001b[0m i \u001b[38;5;241m=\u001b[39m \u001b[38;5;241m2\u001b[39m\n\u001b[0;32m      8\u001b[0m \u001b[38;5;28;01mwhile\u001b[39;00m p\u001b[38;5;241m>\u001b[39m\u001b[38;5;241m=\u001b[39m\u001b[38;5;241m2\u001b[39m:\n\u001b[1;32m----> 9\u001b[0m     \u001b[38;5;28;01mif\u001b[39;00m \u001b[43mp\u001b[49m\u001b[38;5;241m%\u001b[39mi\u001b[38;5;241m==\u001b[39m\u001b[38;5;241m0\u001b[39m:\n\u001b[0;32m     10\u001b[0m         \u001b[38;5;28mprint\u001b[39m(p,\u001b[38;5;124m\"\u001b[39m\u001b[38;5;124mnot prime number\u001b[39m\u001b[38;5;124m\"\u001b[39m)\n\u001b[0;32m     11\u001b[0m         i \u001b[38;5;241m=\u001b[39m i\u001b[38;5;241m+\u001b[39m\u001b[38;5;241m1\u001b[39m\n",
      "\u001b[1;31mKeyboardInterrupt\u001b[0m: "
     ]
    }
   ],
   "source": [
    "p = int(input(\"Enter the number::\"))\n",
    "\n",
    "if p==1 or p==0:\n",
    "    print(p,\"not a prime\")\n",
    "else:\n",
    "    print(p)\n",
    "    i = 2\n",
    "    while p>=2:\n",
    "        if p%i==0:\n",
    "            print(p,\"not prime number\")\n",
    "            i = i+1\n",
    "    else:\n",
    "        print(\"its primt number\",p)        "
   ]
  },
  {
   "cell_type": "code",
   "execution_count": null,
   "id": "0af9b0dc",
   "metadata": {},
   "outputs": [],
   "source": []
  },
  {
   "cell_type": "code",
   "execution_count": null,
   "id": "6efd1cf6",
   "metadata": {},
   "outputs": [],
   "source": []
  },
  {
   "cell_type": "code",
   "execution_count": 1,
   "id": "bc0c3d76",
   "metadata": {},
   "outputs": [
    {
     "name": "stdout",
     "output_type": "stream",
     "text": [
      "Enter the number of your choice5\n",
      "120\n"
     ]
    }
   ],
   "source": [
    "n=int(input(\"Enter the number of your choice::\"))\n",
    "i=1\n",
    "f=1\n",
    "while i<=n:\n",
    "    f=f*i\n",
    "    i=i+1\n",
    "print(f)"
   ]
  },
  {
   "cell_type": "code",
   "execution_count": null,
   "id": "a45b775c",
   "metadata": {},
   "outputs": [],
   "source": []
  },
  {
   "cell_type": "code",
   "execution_count": null,
   "id": "f7a23b6b",
   "metadata": {},
   "outputs": [],
   "source": []
  },
  {
   "cell_type": "code",
   "execution_count": 1,
   "id": "149edfb1",
   "metadata": {},
   "outputs": [
    {
     "name": "stdout",
     "output_type": "stream",
     "text": [
      "Enter the number of your choice::5\n",
      "120\n"
     ]
    }
   ],
   "source": [
    "n=int(input(\"Enter the number of your choice::\"))\n",
    "f= 1\n",
    "for i in range(1,n+1):\n",
    "    f = f*i\n",
    "    \n",
    "\n",
    "print(f)"
   ]
  },
  {
   "cell_type": "code",
   "execution_count": 20,
   "id": "06a27c40",
   "metadata": {},
   "outputs": [
    {
     "name": "stdout",
     "output_type": "stream",
     "text": [
      "Enter the number of your choice::10\n",
      "3628800\n",
      "1.718\n"
     ]
    }
   ],
   "source": [
    "n=int(input(\"Enter the number of your choice::\"))\n",
    "f= 1\n",
    "sum1 = 0\n",
    "for i in range(1,n+1):\n",
    "    f = f*i\n",
    "    sum1 = sum1+1/f\n",
    "\n",
    "print(f)\n",
    "print(round(sum1,3))"
   ]
  },
  {
   "cell_type": "code",
   "execution_count": 27,
   "id": "070e93b0",
   "metadata": {},
   "outputs": [
    {
     "name": "stdout",
     "output_type": "stream",
     "text": [
      "enter pattern::5\n",
      "x\n",
      "xx\n",
      "xxx\n",
      "xxxx\n",
      "xxxxx\n"
     ]
    }
   ],
   "source": [
    "#star pattern in for loop\n",
    "\n",
    "n = int(input(\"enter pattern::\"))\n",
    "\n",
    "for i in range(n):\n",
    "    for j in range(0,i+1):\n",
    "        print(\"x\",end='')\n",
    "    print(\"\")"
   ]
  },
  {
   "cell_type": "code",
   "execution_count": 45,
   "id": "418e5e57",
   "metadata": {},
   "outputs": [
    {
     "name": "stdout",
     "output_type": "stream",
     "text": [
      "enter pattern::5\n",
      "xxxxx\n",
      "xxxx\n",
      "xxx\n",
      "xx\n",
      "x\n"
     ]
    }
   ],
   "source": [
    "p = int(input(\"enter pattern::\"))\n",
    "\n",
    "for i in range(p+1,1,-1):\n",
    "    \n",
    "    for j in range(1,i):\n",
    "        print('x',end= '')\n",
    "    print('')"
   ]
  },
  {
   "cell_type": "code",
   "execution_count": 54,
   "id": "76786876",
   "metadata": {},
   "outputs": [
    {
     "name": "stdout",
     "output_type": "stream",
     "text": [
      "enter the value::5\n",
      "1234\n",
      "123\n",
      "12\n",
      "1\n",
      "\n"
     ]
    }
   ],
   "source": [
    "q = int(input(\"enter the value::\"))\n",
    "\n",
    "for i in range(q,0,-1):\n",
    "    \n",
    "    for j in range(1,i):\n",
    "        print(j,end=\"\")\n",
    "\n",
    "    print()"
   ]
  },
  {
   "cell_type": "code",
   "execution_count": 57,
   "id": "01e9ef33",
   "metadata": {},
   "outputs": [
    {
     "name": "stdout",
     "output_type": "stream",
     "text": [
      "enter the value::5\n",
      "5432\n",
      "432\n",
      "32\n",
      "2\n",
      "\n"
     ]
    }
   ],
   "source": [
    "q = int(input(\"enter the value::\"))\n",
    "\n",
    "for i in range(q,0,-1):\n",
    "    \n",
    "    for j in range(i,1,-1):\n",
    "        print(j,end=\"\")\n",
    "\n",
    "    print()\n",
    "\t"
   ]
  },
  {
   "cell_type": "code",
   "execution_count": 4,
   "id": "500e7a9d",
   "metadata": {},
   "outputs": [
    {
     "name": "stdout",
     "output_type": "stream",
     "text": [
      "s\n",
      "u\n",
      "y\n",
      "d\n",
      "o\n",
      "g\n",
      "a\n",
      "r\n",
      "e\n"
     ]
    }
   ],
   "source": [
    "name = \"sunnydongare\"\n",
    "for i in name:\n",
    "    if i=='n':\n",
    "        continue\n",
    "    print(i)"
   ]
  }
 ],
 "metadata": {
  "kernelspec": {
   "display_name": "Python 3 (ipykernel)",
   "language": "python",
   "name": "python3"
  },
  "language_info": {
   "codemirror_mode": {
    "name": "ipython",
    "version": 3
   },
   "file_extension": ".py",
   "mimetype": "text/x-python",
   "name": "python",
   "nbconvert_exporter": "python",
   "pygments_lexer": "ipython3",
   "version": "3.9.12"
  }
 },
 "nbformat": 4,
 "nbformat_minor": 5
}
