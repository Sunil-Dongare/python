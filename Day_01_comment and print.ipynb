{
 "cells": [
  {
   "cell_type": "code",
   "execution_count": null,
   "id": "deec431f",
   "metadata": {},
   "outputs": [],
   "source": [
    "#sunil \n",
    "'''python is interpreted based language'''\n",
    "python invented in 1991\n",
    "data classification "
   ]
  },
  {
   "cell_type": "code",
   "execution_count": null,
   "id": "2ae9a185",
   "metadata": {},
   "outputs": [],
   "source": [
    "#comment is used to avoid execution\n",
    "#there is no syntax for multiline comment\n",
    "#and explain the code, to new user\n",
    "#we have to comment individually for multiline"
   ]
  },
  {
   "cell_type": "code",
   "execution_count": 2,
   "id": "bd0ff1ae",
   "metadata": {},
   "outputs": [
    {
     "name": "stdout",
     "output_type": "stream",
     "text": [
      "hello\n",
      "watson\n"
     ]
    }
   ],
   "source": [
    "print(\"hello\")\n",
    "#print(\"jerry\")\n",
    "print(\"watson\")"
   ]
  },
  {
   "cell_type": "code",
   "execution_count": 3,
   "id": "2af21d78",
   "metadata": {},
   "outputs": [
    {
     "name": "stdout",
     "output_type": "stream",
     "text": [
      "print(value, ..., sep=' ', end='\\n', file=sys.stdout, flush=False)\n",
      "\n",
      "Prints the values to a stream, or to sys.stdout by default.\n",
      "Optional keyword arguments:\n",
      "file:  a file-like object (stream); defaults to the current sys.stdout.\n",
      "sep:   string inserted between values, default a space.\n",
      "end:   string appended after the last value, default a newline.\n",
      "flush: whether to forcibly flush the stream.\n"
     ]
    }
   ],
   "source": [
    "#print function is used to see output\n",
    "print(print.__doc__) # here doc string is used to explain about function if something commented about the function"
   ]
  },
  {
   "cell_type": "code",
   "execution_count": 9,
   "id": "0400a239",
   "metadata": {},
   "outputs": [
    {
     "name": "stdout",
     "output_type": "stream",
     "text": [
      "hellopython\n"
     ]
    }
   ],
   "source": [
    "print('hello''python')"
   ]
  },
  {
   "cell_type": "code",
   "execution_count": 13,
   "id": "2b93bedf",
   "metadata": {},
   "outputs": [
    {
     "name": "stdout",
     "output_type": "stream",
     "text": [
      "\n",
      "\n",
      "\n",
      " hello\n",
      "\n",
      "\n",
      "\n"
     ]
    }
   ],
   "source": [
    "print('\\n''\\n''\\n',\"hello\",end='\\n''\\n''\\n''\\n')"
   ]
  },
  {
   "cell_type": "code",
   "execution_count": null,
   "id": "805afdc4",
   "metadata": {},
   "outputs": [],
   "source": [
    "#variables..\n"
   ]
  },
  {
   "cell_type": "code",
   "execution_count": 1,
   "id": "1d77c810",
   "metadata": {},
   "outputs": [
    {
     "data": {
      "text/plain": [
       "'sunil'"
      ]
     },
     "execution_count": 1,
     "metadata": {},
     "output_type": "execute_result"
    }
   ],
   "source": [
    "'sunil'"
   ]
  },
  {
   "cell_type": "code",
   "execution_count": 3,
   "id": "82a82312",
   "metadata": {},
   "outputs": [
    {
     "data": {
      "text/plain": [
       "'sufiaefbaseasjdklwefbaskeffjskdbfksjbfasefedbsjkajsbscasjkbass'"
      ]
     },
     "execution_count": 3,
     "metadata": {},
     "output_type": "execute_result"
    }
   ],
   "source": [
    "'sufiaefbaseasjdklwefbaskeffjskdbfksjbfasefedbsjkajsbscasjkbass'"
   ]
  },
  {
   "cell_type": "code",
   "execution_count": 4,
   "id": "cc005056",
   "metadata": {},
   "outputs": [
    {
     "data": {
      "text/plain": [
       "2"
      ]
     },
     "execution_count": 4,
     "metadata": {},
     "output_type": "execute_result"
    }
   ],
   "source": [
    "2"
   ]
  },
  {
   "cell_type": "code",
   "execution_count": 5,
   "id": "8339686a",
   "metadata": {},
   "outputs": [
    {
     "data": {
      "text/plain": [
       "12.21"
      ]
     },
     "execution_count": 5,
     "metadata": {},
     "output_type": "execute_result"
    }
   ],
   "source": [
    "12.21"
   ]
  },
  {
   "cell_type": "code",
   "execution_count": null,
   "id": "14b06c7b",
   "metadata": {},
   "outputs": [],
   "source": [
    "#Rules to fallow to assign or declare variable in python\n",
    "1. Reserved keyword cant be used naming the variable\n",
    "2. fallow some pattern\n",
    "#camle case\n",
    "     myNamesanjeet\n",
    "#pascel case\n",
    "     MyNameSanjeet\n",
    "#snake_case:\n",
    "    my_name_sanjeet"
   ]
  },
  {
   "cell_type": "code",
   "execution_count": null,
   "id": "0834268a",
   "metadata": {},
   "outputs": [],
   "source": [
    "#memory management\n",
    "stac mamory  --refernce variable\n",
    "private heap space  --- objects(value/variables)"
   ]
  },
  {
   "cell_type": "code",
   "execution_count": 6,
   "id": "08d12b1c",
   "metadata": {},
   "outputs": [],
   "source": [
    "a = 20\n",
    "b = 20"
   ]
  },
  {
   "cell_type": "code",
   "execution_count": 4,
   "id": "c4657f22",
   "metadata": {},
   "outputs": [],
   "source": [
    "#print(id(a))"
   ]
  },
  {
   "cell_type": "code",
   "execution_count": 5,
   "id": "a7b1aa9c",
   "metadata": {},
   "outputs": [],
   "source": [
    "#print(id(b))"
   ]
  },
  {
   "cell_type": "code",
   "execution_count": 7,
   "id": "c98e30de",
   "metadata": {},
   "outputs": [
    {
     "name": "stdout",
     "output_type": "stream",
     "text": [
      "2569883708304\n"
     ]
    }
   ],
   "source": [
    "d = 20\n",
    "print(id(d))"
   ]
  },
  {
   "cell_type": "code",
   "execution_count": 8,
   "id": "230b02ae",
   "metadata": {},
   "outputs": [],
   "source": [
    "py = 3.14"
   ]
  },
  {
   "cell_type": "code",
   "execution_count": 9,
   "id": "1cbe8671",
   "metadata": {},
   "outputs": [
    {
     "name": "stdout",
     "output_type": "stream",
     "text": [
      "2569970036080\n"
     ]
    }
   ],
   "source": [
    "print(id(py))#2569970036080"
   ]
  },
  {
   "cell_type": "code",
   "execution_count": 10,
   "id": "ba3bb347",
   "metadata": {},
   "outputs": [
    {
     "name": "stdout",
     "output_type": "stream",
     "text": [
      "2569883708304\n"
     ]
    }
   ],
   "source": [
    "print(id(20))"
   ]
  },
  {
   "cell_type": "code",
   "execution_count": 11,
   "id": "1d79da51",
   "metadata": {},
   "outputs": [
    {
     "name": "stdout",
     "output_type": "stream",
     "text": [
      "2569887782128\n"
     ]
    }
   ],
   "source": [
    "print(id('x'))"
   ]
  },
  {
   "cell_type": "code",
   "execution_count": null,
   "id": "2ab58dbd",
   "metadata": {},
   "outputs": [],
   "source": [
    "print\n",
    "Default parameter\n",
    "variable\n",
    "dynamic binding\n",
    "multi variable declartion\n",
    "memory managment\n",
    "garbage collector\n",
    "\n",
    "\n",
    "\n",
    "specail menaing of underscore\n",
    "1. terminal operator\n",
    "2. help to visulazation x = 10_00_00   (100000)\n",
    "3. not take as useful variable\n",
    "4. leading undersore == private variable\n",
    "5. training underscore == to use keyword as variable === int_\n",
    "6.\n"
   ]
  },
  {
   "cell_type": "code",
   "execution_count": null,
   "id": "33b35bd1",
   "metadata": {},
   "outputs": [],
   "source": [
    "data types\n",
    "1.\n"
   ]
  },
  {
   "cell_type": "code",
   "execution_count": null,
   "id": "c41bdf98",
   "metadata": {},
   "outputs": [],
   "source": [
    "input function and type casting"
   ]
  },
  {
   "cell_type": "code",
   "execution_count": null,
   "id": "ff85aa8a",
   "metadata": {},
   "outputs": [],
   "source": [
    "straight line y=mx+c define slope first\n",
    "\n",
    "m = (y2-y1)/(x2-x1)"
   ]
  },
  {
   "cell_type": "code",
   "execution_count": 6,
   "id": "2808cac2",
   "metadata": {},
   "outputs": [
    {
     "name": "stdout",
     "output_type": "stream",
     "text": [
      "slope::0.8\n",
      "enter x:1\n",
      "intersept==:3\n",
      "3.8\n"
     ]
    }
   ],
   "source": [
    "m = float(input(\"slope::\"))\n",
    "x = int(input(\"enter x:\"))\n",
    "c = int(input(\"intersept==:\"))\n",
    "y = m*x+c\n",
    "print(y)"
   ]
  },
  {
   "cell_type": "code",
   "execution_count": 12,
   "id": "3ee75a00",
   "metadata": {},
   "outputs": [
    {
     "name": "stdout",
     "output_type": "stream",
     "text": [
      "x1:10\n",
      "y1:-8\n",
      "x2:2\n",
      "y2:8\n",
      "-2.0\n",
      "12.0\n",
      "y = -2.0*x + 12.0\n"
     ]
    }
   ],
   "source": [
    "x1 = float(input(\"x1:\"))\n",
    "y1 = float(input(\"y1:\"))\n",
    "x2 = float(input(\"x2:\"))\n",
    "y2 = float(input(\"y2:\"))\n",
    "\n",
    "slope_m = (y2-y1)/(x2-x1)\n",
    "intercept_c =  - slope_m*x1 + y1\n",
    "print(Slope_m)\n",
    "print(intercept_c)\n",
    "\n",
    "print(\"y = {}*x + {}\".format(Slope_m,intercept_c))"
   ]
  },
  {
   "cell_type": "code",
   "execution_count": null,
   "id": "b956621b",
   "metadata": {},
   "outputs": [],
   "source": [
    "#y-y1 = slope_m(x-x1)\n",
    "#y = slope_m(x-x1)+y1\n",
    "#y = slope_m * x - slope_m*x1 + y1"
   ]
  },
  {
   "cell_type": "markdown",
   "id": "bda79d3c",
   "metadata": {},
   "source": []
  },
  {
   "cell_type": "code",
   "execution_count": null,
   "id": "16bc0ba6",
   "metadata": {},
   "outputs": [],
   "source": [
    "b2 - 4ac"
   ]
  },
  {
   "cell_type": "code",
   "execution_count": 14,
   "id": "fe838cc3",
   "metadata": {},
   "outputs": [
    {
     "name": "stdout",
     "output_type": "stream",
     "text": [
      "a1\n",
      "b-5\n",
      "c6\n",
      "the solution are 2.0 and 3.0\n"
     ]
    }
   ],
   "source": [
    "#a = 1, b = -7 ,c = 10\n",
    "#Finding Roots of Quadratic Equation by Quadratic Formula\n",
    "#x = - (b/2a) ±√ (b2 - 4ac) / 2a\n",
    "import math\n",
    "a = int(input(\"a\"))\n",
    "b = int(input(\"b\"))\n",
    "c= int((input(\"c\")))\n",
    "\n",
    "#x = - (b/2a) ±√ (b2 - 4ac) / 2a\n",
    "\n",
    "#discriminant\n",
    "d = b**2 - 4*a*c\n",
    "\n",
    "\n",
    "equ1 = ( -b-math.sqrt(d) ) / (2*a)\n",
    "\n",
    "equ2 = ( -b+math.sqrt(d) ) / (2*a)\n",
    "\n",
    "\n",
    "print(\"the solution are {} and {}\".format(equ1, equ2))"
   ]
  },
  {
   "cell_type": "code",
   "execution_count": 18,
   "id": "6d40b59a",
   "metadata": {},
   "outputs": [
    {
     "name": "stdout",
     "output_type": "stream",
     "text": [
      "point x1:3\n",
      "point y1:2\n",
      "point x2:7\n",
      "point y2:8\n",
      "distance from given points is  7.211102550927978\n"
     ]
    }
   ],
   "source": [
    "#distance \n",
    "import math\n",
    "x1 = int(input(\"point x1:\"))\n",
    "y1 = int(input(\"point y1:\"))\n",
    "x2 = int(input(\"point x2:\"))\n",
    "y2 = int(input(\"point y2:\"))\n",
    "d = (x2-x1)**2 + (y2-y1)**2\n",
    "\n",
    "print(\"distance from given points is \", math.sqrt(d))"
   ]
  },
  {
   "cell_type": "markdown",
   "id": "3ea7b2a3",
   "metadata": {},
   "source": [
    "sum of natural number\n",
    "sum of sqr2 of number\n",
    "difference between them\n",
    "n(n+1)/2\n",
    "(n(n+1)(2n+1))/6"
   ]
  },
  {
   "cell_type": "code",
   "execution_count": 28,
   "id": "818a2af7",
   "metadata": {},
   "outputs": [
    {
     "name": "stdout",
     "output_type": "stream",
     "text": [
      "number::5\n",
      "15.0\n",
      "55.0\n",
      "40.0\n"
     ]
    }
   ],
   "source": [
    "n = int(input(\"number::\"))\n",
    "sum_n = (n*n+n)/2\n",
    "         \n",
    "sum_sn = ((n*n+n)*(2*n+1))/6\n",
    "\n",
    "d = sum_sn - sum_n\n",
    "\n",
    "print(sum_n)\n",
    "print(sum_sn)\n",
    "print(d)"
   ]
  },
  {
   "cell_type": "markdown",
   "id": "92dcf865",
   "metadata": {},
   "source": [
    "one = input(\"input complex number1:\")\n",
    "two = input(\"input complex number2:\")\n",
    "one = 4+5j\n",
    "two = 7+9z\n",
    "thr = one + two\n",
    "print(one.real,one.imag)\n",
    "print(two.real,two.imag)"
   ]
  },
  {
   "cell_type": "code",
   "execution_count": 35,
   "id": "024052d4",
   "metadata": {},
   "outputs": [
    {
     "name": "stdout",
     "output_type": "stream",
     "text": [
      "4.0 5.0\n",
      "(11+14j)\n"
     ]
    }
   ],
   "source": [
    "#one = input(\"input complex number1:\")\n",
    "#two = input(\"input complex number2:\")\n",
    "one = 4+5j\n",
    "two = 7+9j\n",
    "print(one.real,one.imag)\n",
    "thr = one + two\n",
    "print(thr)"
   ]
  },
  {
   "cell_type": "code",
   "execution_count": 4,
   "id": "89ddc333",
   "metadata": {},
   "outputs": [
    {
     "name": "stdout",
     "output_type": "stream",
     "text": [
      "perpendicular_a::2\n",
      "base_b::3\n",
      "hypotenuse of traingle is  6.5\n"
     ]
    }
   ],
   "source": [
    "#pythgoras c2 = a2 + b2\n",
    "per = int(input(\"perpendicular_a::\"))\n",
    "base = int(input(\"base_b::\"))\n",
    "#hyp = int(input(\"hypotenuse_c\"))\n",
    "hyp2 = per**2 + base**2\n",
    "\n",
    "print(\"hypotenuse of traingle is \",hyp2**1/2)"
   ]
  },
  {
   "cell_type": "code",
   "execution_count": 1,
   "id": "87bd85e8",
   "metadata": {},
   "outputs": [
    {
     "name": "stdout",
     "output_type": "stream",
     "text": [
      "perpendicular_a::3\n",
      "base_b::4\n",
      "hypotenuse of traingle is  5.0\n"
     ]
    }
   ],
   "source": [
    "import math\n",
    "per = int(input(\"perpendicular_a::\"))\n",
    "base = int(input(\"base_b::\"))\n",
    "\n",
    "hyp2 = math.sqrt(per**2 + base**2)\n",
    "\n",
    "print(\"hypotenuse of traingle is \",hyp2)"
   ]
  }
 ],
 "metadata": {
  "kernelspec": {
   "display_name": "Python 3 (ipykernel)",
   "language": "python",
   "name": "python3"
  },
  "language_info": {
   "codemirror_mode": {
    "name": "ipython",
    "version": 3
   },
   "file_extension": ".py",
   "mimetype": "text/x-python",
   "name": "python",
   "nbconvert_exporter": "python",
   "pygments_lexer": "ipython3",
   "version": "3.9.12"
  }
 },
 "nbformat": 4,
 "nbformat_minor": 5
}
