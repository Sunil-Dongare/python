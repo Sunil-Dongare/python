{
 "cells": [
  {
   "cell_type": "code",
   "execution_count": null,
   "id": "d04c0f0e",
   "metadata": {},
   "outputs": [],
   "source": [
    "# #Comment..\n",
    "# single line comments with help of #...\n",
    "#Comments are used to help the readbility of code...\n"
   ]
  },
  {
   "cell_type": "code",
   "execution_count": null,
   "id": "fe4f23f8",
   "metadata": {},
   "outputs": [],
   "source": []
  },
  {
   "cell_type": "code",
   "execution_count": null,
   "id": "ad51123a",
   "metadata": {},
   "outputs": [],
   "source": [
    "print(\"Sunny\")"
   ]
  },
  {
   "cell_type": "code",
   "execution_count": null,
   "id": "9f6f95bd",
   "metadata": {},
   "outputs": [],
   "source": [
    "print(\"Sunny Dongare\")"
   ]
  },
  {
   "cell_type": "code",
   "execution_count": null,
   "id": "1d53b6a7",
   "metadata": {},
   "outputs": [],
   "source": [
    "print(\"python is case sensitive language\")"
   ]
  },
  {
   "cell_type": "code",
   "execution_count": null,
   "id": "debc5127",
   "metadata": {},
   "outputs": [],
   "source": [
    "#Declare variable..\n",
    "# variable is reference of object\n",
    "s = 'store variable'\n",
    "print(s)"
   ]
  },
  {
   "cell_type": "code",
   "execution_count": null,
   "id": "7464411b",
   "metadata": {},
   "outputs": [],
   "source": [
    "#Data types already define by programmer...\n",
    "print()\n",
    "#print function apply on only defined variable..\n"
   ]
  },
  {
   "cell_type": "code",
   "execution_count": null,
   "id": "d5166aec",
   "metadata": {},
   "outputs": [],
   "source": [
    "#we can't define variable with space.. and specail character"
   ]
  },
  {
   "cell_type": "code",
   "execution_count": null,
   "id": "10215c3f",
   "metadata": {},
   "outputs": [],
   "source": [
    "print(-7)  #int  datatype"
   ]
  },
  {
   "cell_type": "code",
   "execution_count": null,
   "id": "96c09420",
   "metadata": {},
   "outputs": [],
   "source": [
    "print(0.22) #float"
   ]
  },
  {
   "cell_type": "code",
   "execution_count": null,
   "id": "41616d51",
   "metadata": {},
   "outputs": [],
   "source": [
    "print('sunny',94,0.43,False,a+7j)"
   ]
  },
  {
   "cell_type": "code",
   "execution_count": null,
   "id": "480c87e7",
   "metadata": {},
   "outputs": [],
   "source": [
    "#line by line execution in python..\n",
    "print()"
   ]
  },
  {
   "cell_type": "code",
   "execution_count": null,
   "id": "2f2e4a7b",
   "metadata": {},
   "outputs": [],
   "source": [
    "#parameter\n",
    "seperatr , end ,file , flush.."
   ]
  },
  {
   "cell_type": "code",
   "execution_count": null,
   "id": "20e14492",
   "metadata": {},
   "outputs": [],
   "source": [
    "print(\"sunny\" , end = '-')\n",
    "print(\"Dongare\")"
   ]
  },
  {
   "cell_type": "code",
   "execution_count": null,
   "id": "e08bd117",
   "metadata": {},
   "outputs": [],
   "source": [
    "#flush---  time intervalll"
   ]
  },
  {
   "cell_type": "code",
   "execution_count": null,
   "id": "37977169",
   "metadata": {},
   "outputs": [],
   "source": [
    "#variable 28/12/2022\n"
   ]
  },
  {
   "cell_type": "code",
   "execution_count": null,
   "id": "6b18e7b2",
   "metadata": {},
   "outputs": [],
   "source": [
    "dynamic variable..(python)"
   ]
  },
  {
   "cell_type": "code",
   "execution_count": null,
   "id": "56a42ad9",
   "metadata": {},
   "outputs": [],
   "source": [
    "#variable is case sensitive\n",
    "a = 10\n",
    "A = 10"
   ]
  },
  {
   "cell_type": "code",
   "execution_count": null,
   "id": "d6124359",
   "metadata": {},
   "outputs": [],
   "source": [
    "variable name = alpha"
   ]
  },
  {
   "cell_type": "code",
   "execution_count": 2,
   "id": "0b511ef2",
   "metadata": {},
   "outputs": [
    {
     "name": "stdout",
     "output_type": "stream",
     "text": [
      "2\n"
     ]
    }
   ],
   "source": [
    "#multivariable\n",
    "a,b,c = 1,2,3\n",
    "print(b)"
   ]
  },
  {
   "cell_type": "code",
   "execution_count": 3,
   "id": "8716761d",
   "metadata": {},
   "outputs": [
    {
     "name": "stdout",
     "output_type": "stream",
     "text": [
      "6\n"
     ]
    }
   ],
   "source": [
    "_ = 6\n",
    "print(_)"
   ]
  },
  {
   "cell_type": "code",
   "execution_count": 4,
   "id": "2f29b5e6",
   "metadata": {},
   "outputs": [
    {
     "ename": "NameError",
     "evalue": "name 'ob1011' is not defined",
     "output_type": "error",
     "traceback": [
      "\u001b[1;31m---------------------------------------------------------------------------\u001b[0m",
      "\u001b[1;31mNameError\u001b[0m                                 Traceback (most recent call last)",
      "Input \u001b[1;32mIn [4]\u001b[0m, in \u001b[0;36m<cell line: 1>\u001b[1;34m()\u001b[0m\n\u001b[1;32m----> 1\u001b[0m a\u001b[38;5;241m=\u001b[39m \u001b[43mob1011\u001b[49m\n",
      "\u001b[1;31mNameError\u001b[0m: name 'ob1011' is not defined"
     ]
    }
   ],
   "source": [
    "a= ob1011  #literals.."
   ]
  },
  {
   "cell_type": "code",
   "execution_count": null,
   "id": "ed0afee6",
   "metadata": {},
   "outputs": [],
   "source": [
    "Data types.."
   ]
  },
  {
   "cell_type": "code",
   "execution_count": null,
   "id": "bd22a355",
   "metadata": {},
   "outputs": [],
   "source": [
    "Boolean\n",
    "int,\n",
    "float,\n",
    "complex,\n",
    "None.."
   ]
  },
  {
   "cell_type": "code",
   "execution_count": null,
   "id": "75caa1a6",
   "metadata": {},
   "outputs": [],
   "source": [
    "#string slicing"
   ]
  },
  {
   "cell_type": "code",
   "execution_count": null,
   "id": "78140352",
   "metadata": {},
   "outputs": [],
   "source": [
    "a = 'sanjeetkumar' #consider as an array.."
   ]
  },
  {
   "cell_type": "code",
   "execution_count": null,
   "id": "32e452b2",
   "metadata": {},
   "outputs": [],
   "source": [
    "#string method\n",
    "s = 'AAAtaj'\n",
    "s.capitalize()\n",
    "s.casefold()\n",
    "s.center(11)  #'  AAAtaj  ' , '   AAAtaj  '\n",
    "s.replace(s,'sunil')"
   ]
  },
  {
   "cell_type": "code",
   "execution_count": null,
   "id": "f5983286",
   "metadata": {},
   "outputs": [],
   "source": [
    "#Arthmetic operation\n"
   ]
  },
  {
   "cell_type": "code",
   "execution_count": 6,
   "id": "933d7b34",
   "metadata": {},
   "outputs": [],
   "source": [
    "p = [45,234,535,45,45,45,4,54,45,45,\"python\",'java','python']"
   ]
  },
  {
   "cell_type": "code",
   "execution_count": 13,
   "id": "2c195a1a",
   "metadata": {},
   "outputs": [
    {
     "data": {
      "text/plain": [
       "13"
      ]
     },
     "execution_count": 13,
     "metadata": {},
     "output_type": "execute_result"
    }
   ],
   "source": [
    "len(p)"
   ]
  },
  {
   "cell_type": "code",
   "execution_count": 12,
   "id": "0e94e398",
   "metadata": {},
   "outputs": [
    {
     "name": "stdout",
     "output_type": "stream",
     "text": [
      "8\n"
     ]
    }
   ],
   "source": [
    "print(p.index(45,6,12))"
   ]
  },
  {
   "cell_type": "code",
   "execution_count": null,
   "id": "ee050391",
   "metadata": {},
   "outputs": [],
   "source": [
    "p[4:-1]"
   ]
  },
  {
   "cell_type": "code",
   "execution_count": null,
   "id": "4dcd4b09",
   "metadata": {},
   "outputs": [],
   "source": [
    "p[-2:-5]"
   ]
  },
  {
   "cell_type": "code",
   "execution_count": null,
   "id": "bd6a11cc",
   "metadata": {},
   "outputs": [],
   "source": [
    "p[-2:2]"
   ]
  },
  {
   "cell_type": "code",
   "execution_count": null,
   "id": "ddd05320",
   "metadata": {},
   "outputs": [],
   "source": [
    "len(p)"
   ]
  },
  {
   "cell_type": "code",
   "execution_count": null,
   "id": "33d0298e",
   "metadata": {},
   "outputs": [],
   "source": [
    "p[4:len(p)-1]"
   ]
  },
  {
   "cell_type": "code",
   "execution_count": null,
   "id": "1faaecd7",
   "metadata": {},
   "outputs": [],
   "source": [
    " p[len(p)-2:len(p)-5]\n",
    "    13-2 :13-5\n",
    "    11 : 8"
   ]
  },
  {
   "cell_type": "code",
   "execution_count": null,
   "id": "4081e468",
   "metadata": {},
   "outputs": [],
   "source": [
    "4 : 13-1\n",
    "4: 12"
   ]
  },
  {
   "cell_type": "code",
   "execution_count": null,
   "id": "b65c29b5",
   "metadata": {},
   "outputs": [],
   "source": [
    "#operators\n",
    "Arthemtic operators..\n",
    "\n",
    "+ (addition), - (subtraction), * (multiplication), / (division), and % (modulo).\n",
    "\n",
    "logical operators\n",
    "identity\n",
    "membership..."
   ]
  },
  {
   "cell_type": "code",
   "execution_count": null,
   "id": "c409eaa8",
   "metadata": {},
   "outputs": [],
   "source": [
    "#assignment Dtypes\n",
    "\n",
    "\n",
    "Simple assignment operator ( = )\n",
    "Add and equal operator ( += )\n",
    "Subtract and equal operator ( -= )\n",
    "Asterisk and equal operator ( *= )\n",
    "Divide and equal operator ( /= )\n",
    "Modulus and equal operator ( %= )\n",
    "Double divide and equal operator ( //= )\n",
    "    "
   ]
  },
  {
   "cell_type": "code",
   "execution_count": null,
   "id": "5ca4e41a",
   "metadata": {},
   "outputs": [],
   "source": [
    "a,b,c \n",
    "a = input(\"enter \")"
   ]
  },
  {
   "cell_type": "code",
   "execution_count": null,
   "id": "c002e653",
   "metadata": {},
   "outputs": [],
   "source": [
    "base = int(input(\"enter the base of triangle::\"))\n",
    "height = int(input(\"enter the height of height::\"))\n",
    "area = 1/2 * base * height\n",
    "\n",
    "print(\"the area of triangle\", area)"
   ]
  },
  {
   "cell_type": "code",
   "execution_count": null,
   "id": "9e04e54c",
   "metadata": {},
   "outputs": [],
   "source": [
    "#if single comditio\n",
    "\n",
    "#else two condition\n",
    "\n",
    "#eilf for multiple condition are there....\n",
    "statement"
   ]
  },
  {
   "cell_type": "code",
   "execution_count": null,
   "id": "95a899db",
   "metadata": {},
   "outputs": [],
   "source": [
    "#calculate interest\n",
    "\n",
    "p = int(input(\"enter the principle amount::\"))\n",
    "r = float(input(\"enter the rate of interest::\"))\n",
    "t = int(input(\"enter time period in years::\"))\n",
    "i = (p * r * t) / 100\n",
    "\n",
    "print(i)\n",
    "\n",
    "print(f\"interest of {p} at {r} % for {t} years is {i}\".format(p,r,t,i))"
   ]
  },
  {
   "cell_type": "code",
   "execution_count": null,
   "id": "686eb082",
   "metadata": {},
   "outputs": [],
   "source": []
  },
  {
   "cell_type": "code",
   "execution_count": null,
   "id": "bbaf7211",
   "metadata": {},
   "outputs": [],
   "source": [
    "a = int(input(\"1 st angle of triangle::\"))\n",
    "b = int(input(\"2 nd angle of triangle::\"))\n",
    "c = int(input(\"3rd angle of triangle::\"))\n",
    "\n",
    "total = a+b+c\n",
    "\n",
    "if total == 180:\n",
    "    print(\"its triangle\")\n",
    "else:\n",
    "    print(\"its not triagle\")"
   ]
  },
  {
   "cell_type": "code",
   "execution_count": null,
   "id": "82fce5ce",
   "metadata": {},
   "outputs": [],
   "source": [
    "and in if.. ok sir"
   ]
  },
  {
   "cell_type": "code",
   "execution_count": null,
   "id": "63491a1f",
   "metadata": {},
   "outputs": [],
   "source": [
    "#find even and odd number"
   ]
  },
  {
   "cell_type": "code",
   "execution_count": 25,
   "id": "ece30755",
   "metadata": {},
   "outputs": [
    {
     "name": "stdout",
     "output_type": "stream",
     "text": [
      "you entered number::5\n",
      "number 5 is odd\n"
     ]
    }
   ],
   "source": [
    "num = int(input(\"you entered number::\"))\n",
    "\n",
    "if num%2==0:\n",
    "    print(\"number {} is even number\".format(num))\n",
    "else:\n",
    "    print(\"number {} is odd\".format(num))"
   ]
  },
  {
   "cell_type": "code",
   "execution_count": null,
   "id": "ae80339f",
   "metadata": {},
   "outputs": [],
   "source": [
    "angle = int(input(\"Given angle:: \"))\n",
    "\n",
    "if angle ==180 :\n",
    "   print(\"angle {} is straight angle \".format{angle})\n",
    "\n",
    "elif angle < :\n",
    "    \n",
    "\n",
    "else:\n",
    "    \n",
    "    "
   ]
  },
  {
   "cell_type": "code",
   "execution_count": null,
   "id": "aaf39b98",
   "metadata": {},
   "outputs": [],
   "source": [
    "#short hand if"
   ]
  },
  {
   "cell_type": "code",
   "execution_count": null,
   "id": "d26f3ad1",
   "metadata": {},
   "outputs": [],
   "source": [
    "num = int(input(\"type any digit::\"))\n",
    "\n",
    "print(\"its not multiply by 3\") if (num % 3) == 1 or (num % 3) == 2 else print(\"its multiple by 3\")"
   ]
  },
  {
   "cell_type": "code",
   "execution_count": null,
   "id": "7d66d24c",
   "metadata": {},
   "outputs": [],
   "source": [
    "#"
   ]
  },
  {
   "cell_type": "code",
   "execution_count": null,
   "id": "09ff4cd2",
   "metadata": {},
   "outputs": [],
   "source": [
    "a = int(input(\"per::\"))\n",
    "b = int(input(\"base:\"))\n",
    "h = int(input(\"hypo:\"))\n",
    "\n",
    "print(\"Equilateral triangle\") if (a == b and b == h)  else print(\"other than equi\")\n",
    "#elif \n",
    "\n",
    "\n",
    "# print(\"Equilateral triangle\") if (a == b == h) print(\"'iso'\") elif (a == b or  b == h or a==h )  else print(\"scale\")\n",
    "\n",
    "\n",
    "print(\"Equilateral triangle\") if (a == b and b == h) else print(\"'iso'\") if (a == b or  b == h or a==h ) else print(\"scale\")"
   ]
  },
  {
   "cell_type": "code",
   "execution_count": null,
   "id": "99e4e373",
   "metadata": {},
   "outputs": [],
   "source": [
    "#vowel(a,e,i,o,u)"
   ]
  },
  {
   "cell_type": "code",
   "execution_count": null,
   "id": "f1793a6f",
   "metadata": {},
   "outputs": [],
   "source": [
    "s = input(\"enter string\")\n",
    "if (a,e,i,o,u) in string:\n",
    "    print(\"contain vowel\")"
   ]
  },
  {
   "cell_type": "code",
   "execution_count": null,
   "id": "0f4714cb",
   "metadata": {},
   "outputs": [],
   "source": [
    "#right angle triangle::\n",
    "\n",
    "a=int(input(\"Enter the 1st value \"))\n",
    "b=int(input(\"Enter the 2nd value \"))\n",
    "c=int(input(\"Enter the 3rd value \"))\n",
    "print(\"Right Angle Triangle\") if a*a+b*b==c*c or c*c+b*b==a*a or a*a+c*c==b*b else print(\"Triangle is not Right Angle Triangle\")"
   ]
  },
  {
   "cell_type": "code",
   "execution_count": null,
   "id": "39b4ff14",
   "metadata": {},
   "outputs": [],
   "source": [
    "#nested loop"
   ]
  },
  {
   "cell_type": "code",
   "execution_count": null,
   "id": "e7ee3315",
   "metadata": {},
   "outputs": [],
   "source": [
    "#vowel"
   ]
  },
  {
   "cell_type": "code",
   "execution_count": null,
   "id": "fdc33deb",
   "metadata": {},
   "outputs": [],
   "source": [
    "v = input(\"Enter character::\")\n",
    "count = \n",
    "print(\"its vowels\", v) if v in a,e,i,o,u else print(\"its not vowel\",v)"
   ]
  },
  {
   "cell_type": "code",
   "execution_count": null,
   "id": "69cf9bd7",
   "metadata": {},
   "outputs": [],
   "source": [
    "vowel = 'aeiuoAEIUO'\n",
    "\n",
    "char = input(\"type  char: \")\n",
    "\n",
    "if char in vowel:\n",
    "     print (\" {} is vowel\".format(char))\n",
    "else:\n",
    "     print (\"There is no vowel in  \")"
   ]
  },
  {
   "cell_type": "code",
   "execution_count": null,
   "id": "20db9ce5",
   "metadata": {},
   "outputs": [],
   "source": [
    "amt = 100000\n",
    "pswrd = input(\"enter as pswrd\")"
   ]
  },
  {
   "cell_type": "code",
   "execution_count": null,
   "id": "2d5c6f78",
   "metadata": {},
   "outputs": [],
   "source": [
    "Amt=10000\n",
    "passw=int(input(\"Enter Your Password \"))\n",
    "\n",
    "if passw == 1234:\n",
    "\n",
    "    print(\"Welcome\")\n",
    "    print(\"Enter 1 for check amount\")\n",
    "    print(\"Enter 2 for withdrawl amount\")\n",
    "    print(\"Enter 3 for FastCash\")\n",
    "    input=int(input(\"Enter your choice\"))\n",
    "    if input==1:  \n",
    "        print(Amt)              \n",
    "                \n",
    "else:\n",
    "    if passw =! 1234\n",
    "    print(\"Enter password agin\")"
   ]
  },
  {
   "cell_type": "code",
   "execution_count": null,
   "id": "7a51aa4c",
   "metadata": {},
   "outputs": [],
   "source": [
    "#  \n",
    "   \"\"\" elif input==2:\n",
    "        \n",
    "          \n",
    "            input1=int(input(\"Enter your Amount to Withdrawl\"))\n",
    "            \n",
    "            if input1<Amt and input1%100==0:\n",
    "                \n",
    "                cash=Amt-input1\n",
    "                print(\"Dont forget to take your cash \",input)\n",
    "                print(\"remaining amount is Amt\",cash)\n",
    "                \"\"\""
   ]
  },
  {
   "cell_type": "code",
   "execution_count": null,
   "id": "c5179c4d",
   "metadata": {},
   "outputs": [],
   "source": [
    "#"
   ]
  },
  {
   "cell_type": "code",
   "execution_count": null,
   "id": "273a7a66",
   "metadata": {},
   "outputs": [],
   "source": [
    "#"
   ]
  },
  {
   "cell_type": "code",
   "execution_count": null,
   "id": "f48dbc73",
   "metadata": {},
   "outputs": [],
   "source": [
    "#Find factor of number 10(2,5,10)"
   ]
  },
  {
   "cell_type": "code",
   "execution_count": null,
   "id": "e57f8c19",
   "metadata": {},
   "outputs": [],
   "source": [
    "num = int(input(\"Find factor of ::\"))\n",
    "i = 1\n",
    "while i <= num:\n",
    "    \n",
    "    if num % i==0:\n",
    "        \n",
    "        print(i)\n",
    "    i = i+1  "
   ]
  },
  {
   "cell_type": "code",
   "execution_count": null,
   "id": "d3151083",
   "metadata": {},
   "outputs": [],
   "source": [
    "t = int(input(\"table of::\"))\n",
    "i = 1\n",
    "\n",
    "while i <= 10:\n",
    "   # print(i * i)\n",
    "    print(i * t)\n",
    "    \n",
    "    i = i+1"
   ]
  },
  {
   "cell_type": "code",
   "execution_count": null,
   "id": "bb733ac9",
   "metadata": {},
   "outputs": [],
   "source": [
    "#addition of digits from numbers"
   ]
  },
  {
   "cell_type": "code",
   "execution_count": null,
   "id": "d655e3a0",
   "metadata": {},
   "outputs": [],
   "source": [
    "num=int(input('Enter your number'))\n",
    "r=0\n",
    "s=0\n",
    "while(num!=0 or num>0):\n",
    "    r=num%10\n",
    "    s=s+r\n",
    "    num=num//10 \n",
    "print(s)"
   ]
  },
  {
   "cell_type": "code",
   "execution_count": null,
   "id": "4d9dd1d0",
   "metadata": {},
   "outputs": [],
   "source": [
    "#FIND FACTORAIL OF ANY NUMBER\n",
    "n=int(input(\"Enter the number of your choice\"))\n",
    "i=1\n",
    "f=1\n",
    "while i<=n:\n",
    "    f=f*i\n",
    "    i=i+1\n",
    "print(f)"
   ]
  },
  {
   "cell_type": "code",
   "execution_count": null,
   "id": "98179ce6",
   "metadata": {},
   "outputs": [],
   "source": [
    "f = int(input(\"enter the factorail number\"))\n",
    "i = 1\n",
    "while i<=f:\n",
    "    `\n",
    "    "
   ]
  },
  {
   "cell_type": "code",
   "execution_count": null,
   "id": "93fb17eb",
   "metadata": {},
   "outputs": [],
   "source": [
    "#even number 1 to 10\n",
    "num = 2\n",
    "\n",
    "while num <=10:\n",
    "    print(num)\n",
    "    num = num + 2\n",
    "    \n"
   ]
  },
  {
   "cell_type": "code",
   "execution_count": null,
   "id": "1cb3c070",
   "metadata": {},
   "outputs": [],
   "source": [
    "#first 10 odd numbers\n",
    "num = 1\n",
    "while num <=21:\n",
    "    print(num)\n",
    "    num = num +2"
   ]
  },
  {
   "cell_type": "code",
   "execution_count": null,
   "id": "c12ee291",
   "metadata": {},
   "outputs": [],
   "source": [
    "#first 10 natural number\n",
    "num =1\n",
    "while num <= 10:\n",
    "    print(num)\n",
    "    num = num + 1"
   ]
  },
  {
   "cell_type": "code",
   "execution_count": null,
   "id": "e64e52ce",
   "metadata": {},
   "outputs": [],
   "source": [
    "#first 10 whole numbers\n",
    "num = 0\n",
    "\n",
    "while num < 10:\n",
    "    print(num)\n",
    "    num = num+1"
   ]
  },
  {
   "cell_type": "code",
   "execution_count": null,
   "id": "4f791922",
   "metadata": {},
   "outputs": [],
   "source": [
    "# write a program to print first 10 integres and their squares using while loop\n",
    "\n",
    "num = 1\n",
    "\n",
    "while num<=10:\n",
    "    print(num,num**2)\n",
    "    num = num + 1\n"
   ]
  },
  {
   "cell_type": "code",
   "execution_count": null,
   "id": "c3c60a93",
   "metadata": {},
   "outputs": [],
   "source": [
    "#write loop statement to print the follwing series::\n",
    "#10,20,30,..............300\n",
    "\n"
   ]
  },
  {
   "cell_type": "code",
   "execution_count": null,
   "id": "f4486c53",
   "metadata": {},
   "outputs": [],
   "source": []
  },
  {
   "cell_type": "code",
   "execution_count": null,
   "id": "652349b8",
   "metadata": {},
   "outputs": [],
   "source": [
    "#Sum of even number below \n",
    "num = int(input(\"enter the number::\"))\n",
    "i = 0\n",
    "sum = 0\n",
    "while i <= num:\n",
    "    \n",
    "    print(num)\n",
    "    \n",
    "    if num%2==0:\n",
    "        sum = sum + num\n",
    "        \n",
    "        num = num -2\n",
    "        \n",
    "        #i = i+1\n",
    "    \n",
    "print(sum)"
   ]
  },
  {
   "cell_type": "code",
   "execution_count": null,
   "id": "9a5bf4a5",
   "metadata": {},
   "outputs": [],
   "source": [
    "#addition of odd numbers between series "
   ]
  },
  {
   "cell_type": "code",
   "execution_count": null,
   "id": "8d50ae95",
   "metadata": {},
   "outputs": [],
   "source": [
    "a = int(input(\"Enter the 1st ::\"))\n",
    "b = int(input(\"enter the 2nd number::\"))\n",
    "\n",
    "while a < b:\n",
    "    if a%2 == 1: \n",
    "        print(a)\n",
    "        a = a+1\n",
    "    elif a > b:\n",
    "        if a%2 ==1:\n",
    "        print(a)\n",
    "        a = a-1"
   ]
  },
  {
   "cell_type": "code",
   "execution_count": null,
   "id": "c0e16ff3",
   "metadata": {},
   "outputs": [],
   "source": [
    "a = int(input(\"Enter the 1st ::\"))\n",
    "b = int(input(\"enter the 2nd number::\"))\n",
    "if a < b:\n",
    "\n",
    "    while a<b:\n",
    "        "
   ]
  },
  {
   "cell_type": "code",
   "execution_count": null,
   "id": "d9409e1e",
   "metadata": {},
   "outputs": [],
   "source": [
    "#nested while loop"
   ]
  },
  {
   "cell_type": "code",
   "execution_count": null,
   "id": "07545d3e",
   "metadata": {},
   "outputs": [],
   "source": [
    "star = int(input(\"Number of loop::\"))\n",
    "c = 0\n",
    "while c < star:                 #condition true\n",
    "    r = 0                     #second variable initilaze\n",
    "    print('*')\n",
    "    while r < c:          #condition false\n",
    "        print('*')        #first time skip \n",
    "        r = r+1            # r = 1\n",
    "    print()           #default \\n\n",
    "    c = c+1           #main loop increment"
   ]
  },
  {
   "cell_type": "code",
   "execution_count": null,
   "id": "1e094afb",
   "metadata": {},
   "outputs": [],
   "source": [
    "star = int(input(\"Number of loop::\"))\n",
    "c = 0\n",
    "while c < star:                 #condition true\n",
    "    r = 0                     #second variable initilaze\n",
    "    print('*')\n",
    "    while r < c:          #condition false\n",
    "        print('*',end= '')        #first time skip \n",
    "        r = r+1            # r = 1\n",
    "    print()           #default \\n\n",
    "    c = c+1           #main loop increment"
   ]
  },
  {
   "cell_type": "code",
   "execution_count": null,
   "id": "8741d2ae",
   "metadata": {},
   "outputs": [],
   "source": [
    "#\n",
    "\n",
    "num = int(input(\"Enter the main loop count::\"))\n",
    "i = 1                   #initilize for main loop\n",
    "while i <= num:           #condition true till 1,2,3,4,5 print statement is executed same\n",
    "    print('*')\n",
    "    j = 1\n",
    "    while j < i:                 #second loop here 1 < 1 conditon false for firt time no execution \n",
    "        print('*',end = '')\n",
    "        j = j-1\n",
    "    i = i+1"
   ]
  },
  {
   "cell_type": "code",
   "execution_count": null,
   "id": "f96e81ff",
   "metadata": {},
   "outputs": [],
   "source": []
  },
  {
   "cell_type": "code",
   "execution_count": null,
   "id": "67b1ec9a",
   "metadata": {},
   "outputs": [],
   "source": [
    "line=int(input(\"main loop::\"))\n",
    "i=line\n",
    "while(i>=line):\n",
    "    j=1\n",
    "    while (j<=i):  \n",
    "        print(\"*\",end='')\n",
    "        j = j+1\n",
    "    print()\n",
    "    i= i+1"
   ]
  },
  {
   "cell_type": "markdown",
   "id": "34f49fef",
   "metadata": {},
   "source": [
    "*\n",
    "**\n",
    "***\n",
    "****\n",
    "*****"
   ]
  },
  {
   "cell_type": "code",
   "execution_count": null,
   "id": "e0930b2e",
   "metadata": {},
   "outputs": [],
   "source": [
    "n = int(input(\"enter the looping value::\"))\n",
    "i = 1\n",
    "while i <= n:       #condition for looping\n",
    "    #print(\"*\")      #if condition true \n",
    "    j = 1\n",
    "    while j<=i:     #condition true\n",
    "        print(\"*\",end = ' ')\n",
    "        j = j+1\n",
    "    print()        #pointing to new line\n",
    "    i = i+1        #increment initilzer \n",
    "    "
   ]
  },
  {
   "cell_type": "code",
   "execution_count": null,
   "id": "c60bea95",
   "metadata": {},
   "outputs": [],
   "source": [
    "line = int(input(\"Enter the line you want::\"))\n",
    "i = 1\n",
    "while i <= line:\n",
    "    j = 1\n",
    "    while j<=i:\n",
    "        print(\"*\",end = '')\n",
    "        j = j+1              #j becomes two and condition false\n",
    "  \n",
    "    print()\n",
    "    i = i+1"
   ]
  },
  {
   "cell_type": "code",
   "execution_count": null,
   "id": "77883fa2",
   "metadata": {},
   "outputs": [],
   "source": [
    "num = int(input(\"Enter the looping value::\"))\n",
    "row = 1\n",
    "while row < num:\n",
    "    space\n",
    "    while space \n",
    "    \n",
    "    print()\n",
    "    row =+1"
   ]
  },
  {
   "cell_type": "code",
   "execution_count": 26,
   "id": "80ab3740",
   "metadata": {},
   "outputs": [
    {
     "name": "stdout",
     "output_type": "stream",
     "text": [
      "10\n",
      "9\n",
      "8\n",
      "7\n",
      "6\n",
      "5\n",
      "4\n",
      "3\n",
      "2\n",
      "1\n"
     ]
    }
   ],
   "source": [
    "#print number in reverse order\n",
    "\n",
    "i = 10\n",
    "while i >0:\n",
    "    print(i)\n",
    "    i = i-1"
   ]
  },
  {
   "cell_type": "code",
   "execution_count": 27,
   "id": "695b800b",
   "metadata": {},
   "outputs": [
    {
     "name": "stdout",
     "output_type": "stream",
     "text": [
      "10 9 8 7 6 5 4 3 2 1 "
     ]
    }
   ],
   "source": [
    "i = 10\n",
    "while i > 0:\n",
    "    print(i,end=' ')\n",
    "    i = i-1\n",
    "    "
   ]
  },
  {
   "cell_type": "code",
   "execution_count": 30,
   "id": "265da59f",
   "metadata": {},
   "outputs": [
    {
     "name": "stdout",
     "output_type": "stream",
     "text": [
      "enter the number20\n",
      "2\n",
      "4\n",
      "6\n",
      "8\n",
      "10\n",
      "12\n",
      "14\n",
      "16\n",
      "18\n",
      "20\n"
     ]
    }
   ],
   "source": [
    "#even number\n",
    "n = int(input(\"enter the number\"))\n",
    "i = 1\n",
    "while i <= n:\n",
    "    if i%2==0:\n",
    "        print(i)\n",
    "    i=i+1"
   ]
  }
 ],
 "metadata": {
  "kernelspec": {
   "display_name": "Python 3 (ipykernel)",
   "language": "python",
   "name": "python3"
  },
  "language_info": {
   "codemirror_mode": {
    "name": "ipython",
    "version": 3
   },
   "file_extension": ".py",
   "mimetype": "text/x-python",
   "name": "python",
   "nbconvert_exporter": "python",
   "pygments_lexer": "ipython3",
   "version": "3.9.12"
  }
 },
 "nbformat": 4,
 "nbformat_minor": 5
}
