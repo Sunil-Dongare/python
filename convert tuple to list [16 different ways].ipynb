{
 "cells": [
  {
   "cell_type": "markdown",
   "id": "20f5c22b",
   "metadata": {},
   "source": [
    "Method1\n",
    "this method uses the built-in list function, which takes an iterable as an argument and return list.\n",
    "simply passing a tuple as argument to the list function will convert it into a list"
   ]
  },
  {
   "cell_type": "code",
   "execution_count": 1,
   "id": "e2c2c39c",
   "metadata": {},
   "outputs": [],
   "source": [
    "tuple1 = (10,20,30,40,50)\n"
   ]
  }
 ],
 "metadata": {
  "kernelspec": {
   "display_name": "Python 3 (ipykernel)",
   "language": "python",
   "name": "python3"
  },
  "language_info": {
   "codemirror_mode": {
    "name": "ipython",
    "version": 3
   },
   "file_extension": ".py",
   "mimetype": "text/x-python",
   "name": "python",
   "nbconvert_exporter": "python",
   "pygments_lexer": "ipython3",
   "version": "3.9.12"
  }
 },
 "nbformat": 4,
 "nbformat_minor": 5
}
